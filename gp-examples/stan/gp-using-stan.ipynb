{
 "cells": [
  {
   "cell_type": "code",
   "execution_count": 1,
   "id": "noted-kingston",
   "metadata": {},
   "outputs": [],
   "source": [
    "import os\n",
    "import pickle\n",
    "import pystan\n",
    "import scipy\n",
    "import matplotlib.pyplot as plt\n",
    "import seaborn as sns\n",
    "import pandas as pd\n",
    "import numpy as np\n",
    "import multiprocessing\n",
    "import itertools as it\n",
    "from scipy.special import expit"
   ]
  },
  {
   "cell_type": "code",
   "execution_count": 2,
   "id": "modern-lounge",
   "metadata": {},
   "outputs": [],
   "source": [
    "multiprocessing.set_start_method(\"fork\")\n",
    "sns.set()  # Nice plot aesthetic"
   ]
  },
  {
   "cell_type": "code",
   "execution_count": 3,
   "id": "stone-dinner",
   "metadata": {},
   "outputs": [],
   "source": [
    "bkp_folder = 'bkp'\n",
    "os.makedirs(bkp_folder, exist_ok=True)"
   ]
  },
  {
   "cell_type": "code",
   "execution_count": 4,
   "id": "smoking-ethics",
   "metadata": {},
   "outputs": [],
   "source": [
    "# Set seed\n",
    "np.random.seed(123)"
   ]
  },
  {
   "cell_type": "markdown",
   "id": "sustainable-poultry",
   "metadata": {},
   "source": [
    "# Generate data"
   ]
  },
  {
   "cell_type": "code",
   "execution_count": 5,
   "id": "graphic-elephant",
   "metadata": {},
   "outputs": [],
   "source": [
    "def f(x):\n",
    "    \"\"\"The function to predict.\"\"\"\n",
    "    return x * np.sin(x)\n",
    "\n",
    "\n",
    "x = np.linspace(0, 10, 100)\n",
    "\n",
    "# Observations and noise\n",
    "y = f(x)\n",
    "dy = 0.5 + 1.0 * np.random.random(y.shape)\n",
    "noise = np.random.normal(0, dy)\n",
    "y += noise"
   ]
  },
  {
   "cell_type": "code",
   "execution_count": 6,
   "id": "moral-seattle",
   "metadata": {
    "scrolled": true
   },
   "outputs": [
    {
     "data": {
      "image/png": "[encoded data removed]",
      "text/plain": [
       "<Figure size 432x288 with 1 Axes>"
      ]
     },
     "metadata": {},
     "output_type": "display_data"
    }
   ],
   "source": [
    "plt.scatter(x, y)\n",
    "plt.show()"
   ]
  },
  {
   "cell_type": "markdown",
   "id": "opposed-billy",
   "metadata": {},
   "source": [
    "# Stan-GP"
   ]
  },
  {
   "cell_type": "markdown",
   "id": "changing-mills",
   "metadata": {},
   "source": [
    "Note: in Stan language, vector indexes start from 1 (unlike Python thats starts from 0) "
   ]
  },
  {
   "cell_type": "code",
   "execution_count": 7,
   "id": "shaped-startup",
   "metadata": {},
   "outputs": [],
   "source": [
    "model = \"\"\"\n",
    "data {\n",
    "  int<lower=1> N1;\n",
    "  real x1[N1];\n",
    "  vector[N1] y1;\n",
    "  int<lower=1> N2;\n",
    "  real x2[N2];\n",
    "}\n",
    "transformed data {\n",
    "  // real delta = 1e-9;\n",
    "  int<lower=1> N = N1 + N2;\n",
    "  real x[N];\n",
    "  for (n1 in 1:N1) x[n1] = x1[n1];\n",
    "  for (n2 in 1:N2) x[N1 + n2] = x2[n2];\n",
    "}\n",
    "parameters {\n",
    "  real<lower=0> rho;\n",
    "  real<lower=0> alpha;\n",
    "  real<lower=0> sigma;\n",
    "  vector[N] eta;\n",
    "}\n",
    "transformed parameters {\n",
    "  vector[N] f;\n",
    "  {\n",
    "    matrix[N, N] K = cov_exp_quad(x, alpha, rho) + diag_matrix(rep_vector(1e-9, N));\n",
    "    matrix[N, N] L_K = cholesky_decompose(K);\n",
    "    f = L_K * eta;\n",
    "  }\n",
    "}\n",
    "model {\n",
    "  rho ~ normal(0, 3); //inv_gamma(5, 5);\n",
    "  alpha ~ normal(0, 1);\n",
    "  sigma ~ normal(0, 1);\n",
    "  eta ~ normal(0, 1);\n",
    "\n",
    "  y1 ~ normal(f[1:N1], sigma);\n",
    "}\n",
    "generated quantities {\n",
    "  vector[N2] y2;\n",
    "  for (n2 in 1:N2)\n",
    "    y2[n2] = normal_rng(f[N1 + n2], sigma);\n",
    "}\n",
    "\"\"\""
   ]
  },
  {
   "cell_type": "markdown",
   "id": "statewide-differential",
   "metadata": {},
   "source": [
    "### Compile the model"
   ]
  },
  {
   "cell_type": "markdown",
   "id": "entertaining-insert",
   "metadata": {},
   "source": [
    "*Note: Set `force_compilation = False` to avoid the (quite long) compilation of the model if you didn't make any change since the last compilation*"
   ]
  },
  {
   "cell_type": "code",
   "execution_count": 8,
   "id": "impressed-cancer",
   "metadata": {},
   "outputs": [
    {
     "name": "stderr",
     "output_type": "stream",
     "text": [
      "INFO:pystan:COMPILING THE C++ CODE FOR MODEL anon_model_1b63c7af48dc08a2a36eb1b05bba9305 NOW.\n"
     ]
    }
   ],
   "source": [
    "# Put it to true if you edit the model\n",
    "force_compilation = False\n",
    "\n",
    "# Where to save backup\n",
    "bkp_folder = 'bkp'\n",
    "os.makedirs(bkp_folder, exist_ok=True)\n",
    "bkp_file = os.path.join(bkp_folder, 'gp_model.pkl')\n",
    "\n",
    "if not os.path.exists(bkp_file) or force_compilation is True:\n",
    "    \n",
    "    # Compile the model\n",
    "    sm = pystan.StanModel(model_code=model)\n",
    "    \n",
    "    # Save the model\n",
    "    with open(bkp_file, 'wb') as f:\n",
    "        pickle.dump(sm, f)\n",
    "else:\n",
    "    # Load the model\n",
    "    sm = pickle.load(open(bkp_file, 'rb'))"
   ]
  },
  {
   "cell_type": "markdown",
   "id": "future-million",
   "metadata": {},
   "source": [
    "### Sampling\n",
    "\n",
    "* `iter`: number of samples that will be generated from each Markov chain.\n",
    "* `chains`: number of chains from which samples will be combined to form the posterior distribution. Because the underlying Markov process is stochastic, it's advantageous to have more chains that will initialise at different locations in parameter space, though adding more chains will increase the amount of time it takes to sample. \n",
    "* `warmup` (also known as 'burn-in'): number of samples that will be discarded from the beginning of each chain. As the early samples will be drawn when the Markov chain hasn't had a chance to reach equilibrium. By default this is half of iter, so for each chain we'll get 1000 samples, and chuck away the first 500. With 4 chains, we'll have 2000 samples in total.\n",
    "* `thin`: interval in sampling at which samples are retained. E.g.: if thin is set to 3, every third sample is retained and the rest are discarded. This can be necessary to mitigate the effect of correlation between successive samples. If thin is set to 1 (like here), every sample is retained. \n",
    "* `seed`: Seed for the random generator. It allows for reproducibility."
   ]
  },
  {
   "cell_type": "code",
   "execution_count": 9,
   "id": "general-learning",
   "metadata": {},
   "outputs": [],
   "source": [
    "x_pred_stan = np.linspace(0, 10, 100)"
   ]
  },
  {
   "cell_type": "code",
   "execution_count": null,
   "id": "cordless-survival",
   "metadata": {
    "scrolled": false
   },
   "outputs": [],
   "source": [
    "# Put it to true if you want to do a new run\n",
    "force_run = False\n",
    "\n",
    "# Where to save backup\n",
    "bkp_file = os.path.join(bkp_folder, 'gp_fit.pkl')\n",
    "\n",
    "if not os.path.exists(bkp_file) or force_run is True:\n",
    "    \n",
    "    # Train the model and generate samples\n",
    "    fit_stan = sm.sampling(data={'N1': len(x), 'x1': x, 'y1': y, 'N2': len(x_pred_stan), 'x2': x_pred_stan}, \n",
    "                           iter=1000, chains=1, ) #algorithm=\"Fixed_param\")\n",
    "    \n",
    "    # Save\n",
    "    with open(bkp_file, 'wb') as f:\n",
    "        pickle.dump(fit_stan, f)\n",
    "else:\n",
    "    # Load\n",
    "    fit_stan = pickle.load(open(bkp_file, 'rb'))\n",
    "\n",
    "fit_stan"
   ]
  },
  {
   "cell_type": "code",
   "execution_count": null,
   "id": "objective-bradley",
   "metadata": {},
   "outputs": [],
   "source": [
    "# Cast the fit output to a pandas DataFrame\n",
    "summary_dict = fit_stan.summary()\n",
    "df = pd.DataFrame(summary_dict['summary'], \n",
    "                  columns=summary_dict['summary_colnames'], \n",
    "                  index=summary_dict['summary_rownames'])\n",
    "df"
   ]
  },
  {
   "cell_type": "code",
   "execution_count": null,
   "id": "deadly-folder",
   "metadata": {},
   "outputs": [],
   "source": [
    "x_pred = x_pred_stan\n",
    "y_pred = np.array([df.loc[f\"y2[{i}]\", \"mean\"] for i in range(1, len(x_pred)+1)])\n",
    "sigma = np.array([df.loc[f\"y2[{i}]\", \"sd\"] for i in range(1, len(x_pred)+1)])\n",
    "ex = fit_stan.extract()\n",
    "y_samples = ex[\"y2\"].T[:, np.random.randint(len(x_pred), size=10)]"
   ]
  },
  {
   "cell_type": "code",
   "execution_count": null,
   "id": "aboriginal-lawyer",
   "metadata": {},
   "outputs": [],
   "source": [
    "plt.figure(figsize=(10, 10))\n",
    "plt.plot(x_pred, f(x_pred), 'r:', label=r'$f(x) = x\\,\\sin(x)$')\n",
    "plt.scatter(x, y, color='r', s=10, label='Observations')\n",
    "plt.plot(x_pred, y_pred, 'b-', label='Prediction')\n",
    "plt.fill_between(x_pred, y_pred + 1.96 * sigma, y_pred - 1.96 * sigma,\n",
    "                 alpha=.2, fc='blue', ec='None', label='95% confidence interval')\n",
    "plt.xlabel('$x$')\n",
    "plt.ylabel('$f(x)$')\n",
    "plt.ylim(-10, 10)\n",
    "plt.legend(loc='upper left')\n",
    "\n",
    "plt.plot(x_pred, y_samples, lw=0.5, color='blue')\n",
    "\n",
    "plt.tight_layout()\n",
    "plt.show()"
   ]
  },
  {
   "cell_type": "markdown",
   "id": "distributed-collective",
   "metadata": {},
   "source": [
    "\\begin{equation}\n",
    "k(x) = \\alpha^2\\exp\\left(-\\frac{1}{2\\rho^2}(x_i-x_j)^2\\right) + \\delta_{i,j}\\sigma^2\n",
    "\\end{equation}\n",
    "where $\\delta_{i,j}$ is the Kronecker delta function (1 if $i=j$, 0 otherwise)."
   ]
  },
  {
   "cell_type": "markdown",
   "id": "practical-hearts",
   "metadata": {},
   "source": [
    "The addition of $\\sigma^2$ on the diagonal is important to ensure the positive definiteness of the resulting matrix in the case of two identical inputs $x_i = x_j$. In statistical terms, $\\sigma$ is the scale of the noise term in the regression.\n",
    "\n",
    "The hyperparameter $\\rho$ is the length-scale, and corresponds to the frequency of the functions represented by the Gaussian process prior with respect to the domain. Values of $\\rho$ closer to zero lead the GP to represent high-frequency functions, whereas larger values of $\\rho$ lead to low-frequency functions.\n",
    "\n",
    "The hyperparameter $\\alpha$ is the marginal standard deviation. It controls the magnitude of the range of the function represented by the GP. If you were to take the standard deviation of many draws from the GP $f_1$ prior at a single input $x$ conditional on one value of $\\alpha$ one would recover $\\alpha$."
   ]
  }
 ],
 "metadata": {
  "kernelspec": {
   "display_name": "Python 3",
   "language": "python",
   "name": "python3"
  },
  "language_info": {
   "codemirror_mode": {
    "name": "ipython",
    "version": 3
   },
   "file_extension": ".py",
   "mimetype": "text/x-python",
   "name": "python",
   "nbconvert_exporter": "python",
   "pygments_lexer": "ipython3",
   "version": "3.9.1"
  }
 },
 "nbformat": 4,
 "nbformat_minor": 5
}
