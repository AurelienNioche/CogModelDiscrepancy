{
 "cells": [
  {
   "cell_type": "code",
   "execution_count": 2,
   "id": "operational-resort",
   "metadata": {},
   "outputs": [],
   "source": [
    "import os\n",
    "import time\n",
    "\n",
    "import matplotlib\n",
    "import matplotlib.pyplot as plt\n",
    "import numpy as np\n",
    "import seaborn as sns\n",
    "import pandas as pd\n",
    "import scipy\n",
    "\n",
    "import jax\n",
    "from jax import vmap\n",
    "import jax.numpy as jnp\n",
    "import jax.random as random\n",
    "\n",
    "import numpyro\n",
    "import numpyro.distributions as dist\n",
    "from numpyro.infer import MCMC, NUTS, init_to_feasible, init_to_median, init_to_sample, \\\n",
    "    init_to_uniform, init_to_value\n",
    "\n",
    "from pymc3.gp.util import plot_gp_dist\n",
    "import pymc3 as pm\n",
    "# import pymc3.sampling_jax\n",
    "\n",
    "import pandas as pd\n",
    "import numpy as np\n",
    "from scipy.special import expit\n",
    "import matplotlib.pyplot as plt\n",
    "import cmdstanpy as stan\n",
    "import seaborn as sns\n",
    "import arviz as az\n",
    "\n",
    "from tqdm import tqdm"
   ]
  },
  {
   "cell_type": "code",
   "execution_count": 3,
   "id": "juvenile-bracket",
   "metadata": {},
   "outputs": [],
   "source": [
    "# Don't sting my eyes\n",
    "%config InlineBackend.figure_format = 'retina'\n",
    "sns.set()"
   ]
  },
  {
   "cell_type": "code",
   "execution_count": 4,
   "id": "sonic-newman",
   "metadata": {},
   "outputs": [],
   "source": [
    "# Default to double precision.\n",
    "numpyro.enable_x64()"
   ]
  },
  {
   "cell_type": "markdown",
   "id": "divided-greek",
   "metadata": {},
   "source": [
    "# Utility models"
   ]
  },
  {
   "cell_type": "code",
   "execution_count": 5,
   "id": "sonic-paste",
   "metadata": {},
   "outputs": [],
   "source": [
    "def u_pow(x, theta): return x**theta"
   ]
  },
  {
   "cell_type": "code",
   "execution_count": 6,
   "id": "smoking-graphic",
   "metadata": {},
   "outputs": [],
   "source": [
    "def u_exp(x, theta): return 1 - np.exp(-theta*x)"
   ]
  },
  {
   "cell_type": "code",
   "execution_count": 7,
   "id": "improving-palestinian",
   "metadata": {},
   "outputs": [],
   "source": [
    "def u_lin(x, theta=None): return x"
   ]
  },
  {
   "cell_type": "markdown",
   "id": "fantastic-watershed",
   "metadata": {},
   "source": [
    "# Generate choice data"
   ]
  },
  {
   "cell_type": "code",
   "execution_count": 8,
   "id": "downtown-irrigation",
   "metadata": {
    "scrolled": true
   },
   "outputs": [],
   "source": [
    "def generate_data(u, seed=123, max_x=1, n=100, tau=3.333, theta=0.5):\n",
    "    \n",
    "    np.random.seed(seed)\n",
    "    \n",
    "    data = pd.DataFrame(np.random.uniform(0, 1, size=(n*10, 4)), columns=[\"p0\", \"x0\", \"p1\", \"x1\"])\n",
    "    for i in range(2):\n",
    "        data[f\"x{i}\"] = data[f\"x{i}\"].values * max_x\n",
    "    data = data[~((data.p0 >= data.p1) & (data.x0 >= data.x1))]\n",
    "    data = data[~((data.p1 >= data.p0) & (data.x1 >= data.x0))]\n",
    "    data = data.sample(n=n, replace=False)\n",
    "    \n",
    "    p0 = data.p0.values\n",
    "    p1 = data.p1.values\n",
    "    x0 = data.x0.values\n",
    "    x1 = data.x1.values\n",
    "    \n",
    "    seu0 = p0 * u(x0, theta)\n",
    "    seu1 = p1 * u(x1, theta)\n",
    "\n",
    "    diff_eu = seu1 - seu0\n",
    "\n",
    "    p_choice_1 = scipy.special.expit(tau*diff_eu)\n",
    "    choices = np.zeros(n, dtype=int)\n",
    "    choices[:] = p_choice_1 > np.random.random(size=n)\n",
    "    data['choices'] = choices\n",
    "\n",
    "    return data"
   ]
  },
  {
   "cell_type": "code",
   "execution_count": 9,
   "id": "circular-plasma",
   "metadata": {},
   "outputs": [
    {
     "data": {
      "text/html": [
       "<div>\n",
       "<style scoped>\n",
       "    .dataframe tbody tr th:only-of-type {\n",
       "        vertical-align: middle;\n",
       "    }\n",
       "\n",
       "    .dataframe tbody tr th {\n",
       "        vertical-align: top;\n",
       "    }\n",
       "\n",
       "    .dataframe thead th {\n",
       "        text-align: right;\n",
       "    }\n",
       "</style>\n",
       "<table border=\"1\" class=\"dataframe\">\n",
       "  <thead>\n",
       "    <tr style=\"text-align: right;\">\n",
       "      <th></th>\n",
       "      <th>p0</th>\n",
       "      <th>x0</th>\n",
       "      <th>p1</th>\n",
       "      <th>x1</th>\n",
       "      <th>choices</th>\n",
       "    </tr>\n",
       "  </thead>\n",
       "  <tbody>\n",
       "    <tr>\n",
       "      <th>9002</th>\n",
       "      <td>0.696389</td>\n",
       "      <td>0.007647</td>\n",
       "      <td>0.617248</td>\n",
       "      <td>0.282997</td>\n",
       "      <td>1</td>\n",
       "    </tr>\n",
       "    <tr>\n",
       "      <th>7863</th>\n",
       "      <td>0.953285</td>\n",
       "      <td>0.292898</td>\n",
       "      <td>0.380948</td>\n",
       "      <td>0.552913</td>\n",
       "      <td>1</td>\n",
       "    </tr>\n",
       "    <tr>\n",
       "      <th>7455</th>\n",
       "      <td>0.060678</td>\n",
       "      <td>0.327938</td>\n",
       "      <td>0.685627</td>\n",
       "      <td>0.158464</td>\n",
       "      <td>1</td>\n",
       "    </tr>\n",
       "    <tr>\n",
       "      <th>3414</th>\n",
       "      <td>0.138550</td>\n",
       "      <td>0.276750</td>\n",
       "      <td>0.788651</td>\n",
       "      <td>0.125342</td>\n",
       "      <td>0</td>\n",
       "    </tr>\n",
       "    <tr>\n",
       "      <th>5796</th>\n",
       "      <td>0.116159</td>\n",
       "      <td>0.356232</td>\n",
       "      <td>0.732859</td>\n",
       "      <td>0.310642</td>\n",
       "      <td>0</td>\n",
       "    </tr>\n",
       "    <tr>\n",
       "      <th>...</th>\n",
       "      <td>...</td>\n",
       "      <td>...</td>\n",
       "      <td>...</td>\n",
       "      <td>...</td>\n",
       "      <td>...</td>\n",
       "    </tr>\n",
       "    <tr>\n",
       "      <th>2857</th>\n",
       "      <td>0.928569</td>\n",
       "      <td>0.159319</td>\n",
       "      <td>0.006656</td>\n",
       "      <td>0.571188</td>\n",
       "      <td>0</td>\n",
       "    </tr>\n",
       "    <tr>\n",
       "      <th>5417</th>\n",
       "      <td>0.621396</td>\n",
       "      <td>0.103035</td>\n",
       "      <td>0.601608</td>\n",
       "      <td>0.871169</td>\n",
       "      <td>1</td>\n",
       "    </tr>\n",
       "    <tr>\n",
       "      <th>1854</th>\n",
       "      <td>0.218694</td>\n",
       "      <td>0.560962</td>\n",
       "      <td>0.389658</td>\n",
       "      <td>0.026879</td>\n",
       "      <td>1</td>\n",
       "    </tr>\n",
       "    <tr>\n",
       "      <th>8834</th>\n",
       "      <td>0.980679</td>\n",
       "      <td>0.073375</td>\n",
       "      <td>0.877985</td>\n",
       "      <td>0.777087</td>\n",
       "      <td>1</td>\n",
       "    </tr>\n",
       "    <tr>\n",
       "      <th>6976</th>\n",
       "      <td>0.329744</td>\n",
       "      <td>0.401403</td>\n",
       "      <td>0.030272</td>\n",
       "      <td>0.846973</td>\n",
       "      <td>1</td>\n",
       "    </tr>\n",
       "  </tbody>\n",
       "</table>\n",
       "<p>1000 rows × 5 columns</p>\n",
       "</div>"
      ],
      "text/plain": [
       "            p0        x0        p1        x1  choices\n",
       "9002  0.696389  0.007647  0.617248  0.282997        1\n",
       "7863  0.953285  0.292898  0.380948  0.552913        1\n",
       "7455  0.060678  0.327938  0.685627  0.158464        1\n",
       "3414  0.138550  0.276750  0.788651  0.125342        0\n",
       "5796  0.116159  0.356232  0.732859  0.310642        0\n",
       "...        ...       ...       ...       ...      ...\n",
       "2857  0.928569  0.159319  0.006656  0.571188        0\n",
       "5417  0.621396  0.103035  0.601608  0.871169        1\n",
       "1854  0.218694  0.560962  0.389658  0.026879        1\n",
       "8834  0.980679  0.073375  0.877985  0.777087        1\n",
       "6976  0.329744  0.401403  0.030272  0.846973        1\n",
       "\n",
       "[1000 rows x 5 columns]"
      ]
     },
     "execution_count": 9,
     "metadata": {},
     "output_type": "execute_result"
    }
   ],
   "source": [
    "data = generate_data(u=u_pow, n=1000, tau=3.333, theta=(0.5, ))\n",
    "data"
   ]
  },
  {
   "cell_type": "markdown",
   "id": "wrapped-yemen",
   "metadata": {},
   "source": [
    "# Likelihood whole model given M, $\\theta_M$"
   ]
  },
  {
   "cell_type": "code",
   "execution_count": 10,
   "id": "raised-exploration",
   "metadata": {},
   "outputs": [],
   "source": [
    "def softplus(x):\n",
    "    return np.log(1 + np.exp(x))\n",
    "\n",
    "def objective(param, data, u_m):\n",
    "    \n",
    "    param = softplus(param)  # All parameters all supposed to be R+\n",
    "    \n",
    "    tau = param[0]\n",
    "    theta = param[1]\n",
    "    \n",
    "    p0 = data.p0.values\n",
    "    p1 = data.p1.values\n",
    "    x0 = data.x0.values\n",
    "    x1 = data.x1.values\n",
    "    y = data.choices.values \n",
    "    \n",
    "    seu0 = p0 * u_m(x0, theta)\n",
    "    seu1 = p1 * u_m(x1, theta)\n",
    "\n",
    "    diff_eu = seu1 - seu0\n",
    "\n",
    "    p_choice_1 = scipy.special.expit(tau*diff_eu) # p choose 1\n",
    "    p_choice_y = p_choice_1**y * (1-p_choice_1)**(1-y)\n",
    "    return - np.log(p_choice_y).sum()"
   ]
  },
  {
   "cell_type": "code",
   "execution_count": 11,
   "id": "unnecessary-stationery",
   "metadata": {},
   "outputs": [],
   "source": [
    "def optimize(data, u_m=u_pow, x0=None):\n",
    "    if x0 is None:\n",
    "        x0 = (0.0, 0.0) # Assume two parameters\n",
    "    opt = scipy.optimize.minimize(objective, x0=x0, args=(data, u_m))\n",
    "    return softplus(opt.x)"
   ]
  },
  {
   "cell_type": "code",
   "execution_count": 12,
   "id": "rental-chile",
   "metadata": {},
   "outputs": [
    {
     "data": {
      "text/plain": [
       "array([3.28496491, 0.53506426])"
      ]
     },
     "execution_count": 12,
     "metadata": {},
     "output_type": "execute_result"
    }
   ],
   "source": [
    "optimize(data, u_m=u_pow)"
   ]
  },
  {
   "cell_type": "markdown",
   "id": "bibliographic-contest",
   "metadata": {},
   "source": [
    "# Measure discrepancy"
   ]
  },
  {
   "cell_type": "markdown",
   "id": "native-lobby",
   "metadata": {},
   "source": [
    "## Generate data"
   ]
  },
  {
   "cell_type": "code",
   "execution_count": 13,
   "id": "baking-stationery",
   "metadata": {},
   "outputs": [],
   "source": [
    "u_data = u_pow\n",
    "theta_data = 0.5\n",
    "tau_data = 3.333"
   ]
  },
  {
   "cell_type": "code",
   "execution_count": 14,
   "id": "overhead-tribute",
   "metadata": {},
   "outputs": [],
   "source": [
    "data = generate_data(u=u_data, tau=tau_data, theta=theta_data, n=1000, seed=123)\n",
    "np.random.seed(12345)\n",
    "data = data.sample(n=100, replace=False)"
   ]
  },
  {
   "cell_type": "code",
   "execution_count": 15,
   "id": "institutional-problem",
   "metadata": {},
   "outputs": [
    {
     "data": {
      "text/plain": [
       "array([3.4444072 , 0.39557323])"
      ]
     },
     "execution_count": 15,
     "metadata": {},
     "output_type": "execute_result"
    }
   ],
   "source": [
    "optimize(data, u_m=u_pow)"
   ]
  },
  {
   "cell_type": "markdown",
   "id": "normal-communist",
   "metadata": {},
   "source": [
    "## Using Scipy (MLE)"
   ]
  },
  {
   "cell_type": "code",
   "execution_count": 81,
   "id": "chemical-handling",
   "metadata": {},
   "outputs": [],
   "source": [
    "def sofplus(x):\n",
    "    return np.log(1 + np.exp(x))"
   ]
  },
  {
   "cell_type": "code",
   "execution_count": 82,
   "id": "published-commodity",
   "metadata": {},
   "outputs": [],
   "source": [
    "def kernel(X, Xs, length):\n",
    "    deltaX = np.power((X[:, None] - Xs) / length, 2.0)\n",
    "    return np.exp(-0.5 * deltaX)"
   ]
  },
  {
   "cell_type": "code",
   "execution_count": 83,
   "id": "working-abuse",
   "metadata": {},
   "outputs": [],
   "source": [
    "def model(X, p, y, tau, factor, M, undo_sorted, jitter=1e-06):\n",
    "    \n",
    "    n_x = X.shape[0]\n",
    "    n_y = y.shape[0]\n",
    "    \n",
    "    def objective(param):\n",
    "\n",
    "        var = softplus(param[0])\n",
    "        length = sofplus(param[1])\n",
    "        eta = param[2:]\n",
    "\n",
    "        K = factor * var**2 * kernel(X, X, length) + jitter * np.eye(n_x)\n",
    "        L = np.linalg.cholesky(K)\n",
    "        f = M + L.dot(eta)\n",
    "\n",
    "        est_eu_sorted =  p * f    \n",
    "        est_eu = est_eu_sorted[undo_sorted]\n",
    "        est_diff_eu = est_eu[n_y:] - est_eu[:n_y]\n",
    "        \n",
    "        p_y = scipy.special.expit(tau*est_diff_eu)\n",
    "        log_p = np.log(p_y**y * (1-p_y)**(1-y) + np.finfo(float).eps).sum()\n",
    "        \n",
    "        return - log_p\n",
    "        #numpyro.sample(\"obs\", dist.Bernoulli(logits=), obs=y)\n",
    "    \n",
    "    return objective"
   ]
  },
  {
   "cell_type": "code",
   "execution_count": 84,
   "id": "deluxe-malta",
   "metadata": {},
   "outputs": [],
   "source": [
    "def run_inference(data, u, theta, tau, use_ratio):\n",
    "    \n",
    "    p0 = data.p0.values\n",
    "    p1 = data.p1.values\n",
    "    x0 = data.x0.values\n",
    "    x1 = data.x1.values\n",
    "    y = data.choices.values\n",
    "\n",
    "    x = np.hstack((x0, x1))\n",
    "    p = np.hstack((p0, p1))\n",
    "\n",
    "    x_order = np.argsort(x)\n",
    "    x_sorted = x[x_order]\n",
    "    p_sorted = p[x_order]\n",
    "    undo_sorted = np.argsort(x_order)\n",
    "    \n",
    "    X = x_sorted\n",
    "    uX = u(X, theta)\n",
    "    P = p_sorted\n",
    "\n",
    "    M = uX\n",
    "    \n",
    "    if use_ratio:\n",
    "        factor = uX[:, None] * uX\n",
    "    else:\n",
    "        factor = 1.\n",
    "        \n",
    "    res = scipy.optimize.minimize(\n",
    "        model(X=X, p=P, y=y, tau=tau, factor=factor, M=M, undo_sorted=undo_sorted),\n",
    "        x0=np.zeros(2+len(X)))\n",
    "    \n",
    "    opt_var = sofplus(res.x[0])\n",
    "    opt_length = sofplus(res.x[1])\n",
    "    opt_eta = res.x[2:]\n",
    "    \n",
    "    return X, opt_var, opt_length, opt_eta"
   ]
  },
  {
   "cell_type": "code",
   "execution_count": 89,
   "id": "collective-centre",
   "metadata": {},
   "outputs": [],
   "source": [
    "def gp_predict(X, var, length, eta, u, theta, use_ratio, Xnew=None, jitter=1.0e-6):\n",
    "    \n",
    "    '''\n",
    "    Close to: https://github.com/pymc-devs/pymc3/blob/master/pymc3/gp/gp.py\n",
    "    '''\n",
    "    \n",
    "    uX = u(X, theta)\n",
    "    \n",
    "    N = X.shape[0]\n",
    "    if use_ratio:\n",
    "        factor = uX[:, None] * uX\n",
    "    else:\n",
    "        factor = 1\n",
    "        \n",
    "    K_XX = factor * var**2 * kernel(X, X, length) + jitter*np.eye(N)\n",
    "    L = np.linalg.cholesky(K_XX)\n",
    "    f = uX + L.dot(eta)\n",
    "    \n",
    "    if Xnew is not None:\n",
    "        M = Xnew.shape[0]\n",
    "        \n",
    "        up = u(Xnew, theta)\n",
    "        if use_ratio:\n",
    "            factor_Xp = uX[:, None] * up\n",
    "        else:\n",
    "            factor_Xp = 1\n",
    "        \n",
    "        K_Xp = factor_Xp * var**2 * kernel(X, Xnew, length)\n",
    "        \n",
    "        A = scipy.linalg.solve_triangular(L, K_Xp, lower=True)\n",
    "        v = scipy.linalg.solve_triangular(L, f - uX, lower=True)\n",
    "        \n",
    "        f_predict = up + A.T.dot(v)\n",
    "        \n",
    "        if use_ratio:\n",
    "            factor_pp = up[:, None] * up\n",
    "        else:\n",
    "            factor_pp = 1 \n",
    "        Kpp = factor_pp * var**2 * kernel(Xnew, Xnew, length)\n",
    "        cov_predict = Kpp - A.T.dot(A)\n",
    "        f_predict_var = np.diag(cov_predict)\n",
    "        f_predict_std = np.sqrt(f_predict_var)\n",
    "        \n",
    "    else:\n",
    "        f_predict_var = np.diag(K_XX)\n",
    "        f_predict_std = np.sqrt(f_predict_var)\n",
    "        f_predict = f\n",
    "    \n",
    "    return f_predict, f_predict_std"
   ]
  },
  {
   "cell_type": "markdown",
   "id": "willing-camera",
   "metadata": {},
   "source": [
    "### Using 'good' prior"
   ]
  },
  {
   "cell_type": "code",
   "execution_count": 85,
   "id": "elect-alaska",
   "metadata": {},
   "outputs": [
    {
     "data": {
      "text/plain": [
       "array([4.77346174, 0.68883595])"
      ]
     },
     "execution_count": 85,
     "metadata": {},
     "output_type": "execute_result"
    }
   ],
   "source": [
    "u_data = u_pow\n",
    "theta_data = 0.5\n",
    "tau_data = 3.333\n",
    "\n",
    "data = generate_data(u=u_data, tau=tau_data, theta=theta_data, n=1000, seed=123)\n",
    "np.random.seed(12345)\n",
    "data = data.sample(n=50, replace=False)\n",
    "\n",
    "optimize(data, u_m=u_pow)"
   ]
  },
  {
   "cell_type": "code",
   "execution_count": 86,
   "id": "asian-killing",
   "metadata": {
    "scrolled": true
   },
   "outputs": [],
   "source": [
    "u_model = u_pow\n",
    "theta_model = 0.5\n",
    "tau_model = 3.333\n",
    "\n",
    "use_ratio = True"
   ]
  },
  {
   "cell_type": "code",
   "execution_count": 88,
   "id": "suspected-vinyl",
   "metadata": {},
   "outputs": [
    {
     "name": "stdout",
     "output_type": "stream",
     "text": [
      "CPU times: user 26.2 s, sys: 3.71 s, total: 29.9 s\n",
      "Wall time: 7.83 s\n"
     ]
    }
   ],
   "source": [
    "%%time\n",
    "X, var, length, eta = run_inference(\n",
    "    data=data, \n",
    "    u=u_model, theta=theta_model, tau=tau_model,\n",
    "    use_ratio=use_ratio)"
   ]
  },
  {
   "cell_type": "code",
   "execution_count": 90,
   "id": "eight-sierra",
   "metadata": {},
   "outputs": [],
   "source": [
    "f, f_std = gp_predict(X=X, var=var, length=length, eta=eta, u=u_model, theta=theta_model, use_ratio=use_ratio)"
   ]
  },
  {
   "cell_type": "code",
   "execution_count": 91,
   "id": "growing-argument",
   "metadata": {},
   "outputs": [
    {
     "data": {
      "image/png": "[encoded data removed]",
      "text/plain": [
       "<Figure size 432x288 with 1 Axes>"
      ]
     },
     "metadata": {
      "image/png": {
       "height": 251,
       "width": 371
      }
     },
     "output_type": "display_data"
    }
   ],
   "source": [
    "fig, ax = plt.subplots()\n",
    "ax.fill_between(X, \n",
    "                 f + 1.96 * f_std, \n",
    "                 f - 1.96 * f_std,\n",
    "                 color='red', alpha=0.1)\n",
    "ax.plot(X, f, color='red')\n",
    "ax.plot(X, u_model(X, theta_model), ls='--');"
   ]
  },
  {
   "cell_type": "markdown",
   "id": "sapphire-liability",
   "metadata": {},
   "source": [
    "### Using linear prior"
   ]
  },
  {
   "cell_type": "code",
   "execution_count": 60,
   "id": "sufficient-dietary",
   "metadata": {},
   "outputs": [],
   "source": [
    "u_model = u_lin\n",
    "theta_model = None\n",
    "tau_model = 3.333\n",
    "\n",
    "use_ratio = True"
   ]
  },
  {
   "cell_type": "markdown",
   "id": "right-craft",
   "metadata": {},
   "source": [
    "## Sparse"
   ]
  },
  {
   "cell_type": "code",
   "execution_count": 93,
   "id": "major-airport",
   "metadata": {},
   "outputs": [],
   "source": [
    "def sparse_model(X, y, p, undo_sorted, u, theta, tau, T=50, jitter=1e-06):\n",
    "    \n",
    "    n = y.shape[0]\n",
    "    \n",
    "    def objective(param):\n",
    "\n",
    "        var = softplus(param[0])\n",
    "        length = sofplus(param[1])\n",
    "        eta = param[2:]\n",
    "        \n",
    "        Xt = np.linspace(0, 1, T)\n",
    "        \n",
    "        Mt = u(Xt, theta)\n",
    "        K_factor = Mt[:, None] * Mt\n",
    "\n",
    "        k_XX = K_factor * var **2 * kernel(Xt, Xt, length) + jitter*np.eye(T)\n",
    "        L = np.linalg.cholesky(k_XX)\n",
    "        L_dot_eta = np.dot(L, eta)\n",
    "        # f = Mt + L_dot_eta\n",
    "\n",
    "        Mp = jnp.asarray(u(X, theta))\n",
    "        K_Xp_factor = Mt[:, None] * Mp\n",
    "\n",
    "        K_Xp = K_Xp_factor * var**2 * kernel(Xt, X, length)\n",
    "        A = jax.scipy.linalg.solve_triangular(L, K_Xp, lower=True)\n",
    "        v = jax.scipy.linalg.solve_triangular(L, L_dot_eta, lower=True)\n",
    "\n",
    "        f_predict = Mp + A.T.dot(v)\n",
    "\n",
    "        est_eu_sorted =  p * f_predict    \n",
    "        est_eu = est_eu_sorted[undo_sorted]\n",
    "        est_diff_eu = est_eu[n:] - est_eu[:n]\n",
    "    \n",
    "        p_y = scipy.special.expit(tau*est_diff_eu)\n",
    "        log_p = np.log(p_y**y * (1-p_y)**(1-y) + np.finfo(float).eps).sum()\n",
    "        \n",
    "        return - log_p\n",
    "        #numpyro.sample(\"obs\", dist.Bernoulli(logits=), obs=y)\n",
    "    \n",
    "    return objective"
   ]
  },
  {
   "cell_type": "code",
   "execution_count": 94,
   "id": "integrated-calvin",
   "metadata": {},
   "outputs": [],
   "source": [
    "def run_inference_sparse(data, u, theta, tau, use_ratio):\n",
    "    \n",
    "    p0 = data.p0.values\n",
    "    p1 = data.p1.values\n",
    "    x0 = data.x0.values\n",
    "    x1 = data.x1.values\n",
    "    y = data.choices.values\n",
    "\n",
    "    x = np.hstack((x0, x1))\n",
    "    p = np.hstack((p0, p1))\n",
    "\n",
    "    x_order = np.argsort(x)\n",
    "    x_sorted = x[x_order]\n",
    "    p_sorted = p[x_order]\n",
    "    undo_sorted = np.argsort(x_order)\n",
    "    \n",
    "    X = x_sorted\n",
    "    uX = u(X, theta)\n",
    "    P = p_sorted\n",
    "\n",
    "    M = uX\n",
    "    \n",
    "    if use_ratio:\n",
    "        factor = uX[:, None] * uX\n",
    "    else:\n",
    "        factor = 1.\n",
    "        \n",
    "    res = scipy.optimize.minimize(\n",
    "        model(X=X, p=P, y=y, tau=tau, factor=factor, M=M, undo_sorted=undo_sorted),\n",
    "        x0=np.zeros(2+len(X)))\n",
    "    \n",
    "    opt_var = sofplus(res.x[0])\n",
    "    opt_length = sofplus(res.x[1])\n",
    "    opt_eta = res.x[2:]\n",
    "    \n",
    "    return X, opt_var, opt_length, opt_eta"
   ]
  },
  {
   "cell_type": "code",
   "execution_count": 96,
   "id": "experienced-consortium",
   "metadata": {},
   "outputs": [
    {
     "data": {
      "text/plain": [
       "array([3.59802122, 0.36180301])"
      ]
     },
     "execution_count": 96,
     "metadata": {},
     "output_type": "execute_result"
    }
   ],
   "source": [
    "u_data = u_pow\n",
    "theta_data = 0.5\n",
    "tau_data = 3.333\n",
    "\n",
    "data = generate_data(u=u_data, tau=tau_data, theta=theta_data, n=1000, seed=123)\n",
    "np.random.seed(12345)\n",
    "data = data.sample(n=200, replace=False)\n",
    "\n",
    "optimize(data, u_m=u_pow)"
   ]
  },
  {
   "cell_type": "code",
   "execution_count": 97,
   "id": "shared-workstation",
   "metadata": {
    "scrolled": true
   },
   "outputs": [],
   "source": [
    "u_model = u_pow\n",
    "theta_model = 0.5\n",
    "tau_model = 3.333\n",
    "\n",
    "use_ratio = True"
   ]
  },
  {
   "cell_type": "code",
   "execution_count": 98,
   "id": "juvenile-paintball",
   "metadata": {},
   "outputs": [
    {
     "name": "stdout",
     "output_type": "stream",
     "text": [
      "CPU times: user 1h 7min 10s, sys: 9min 13s, total: 1h 16min 23s\n",
      "Wall time: 19min 49s\n"
     ]
    }
   ],
   "source": [
    "%%time\n",
    "X, var, length, eta = run_inference_sparse(\n",
    "    data=data, \n",
    "    u=u_model, theta=theta_model, tau=tau_model,\n",
    "    use_ratio=use_ratio)"
   ]
  },
  {
   "cell_type": "code",
   "execution_count": 99,
   "id": "beautiful-latest",
   "metadata": {},
   "outputs": [],
   "source": [
    "f, f_std = gp_predict(X=X, var=var, length=length, eta=eta, u=u_model, theta=theta_model, use_ratio=use_ratio)"
   ]
  },
  {
   "cell_type": "code",
   "execution_count": 100,
   "id": "partial-sudan",
   "metadata": {},
   "outputs": [
    {
     "data": {
      "image/png": "[encoded data removed]",
      "text/plain": [
       "<Figure size 432x288 with 1 Axes>"
      ]
     },
     "metadata": {
      "image/png": {
       "height": 251,
       "width": 383
      }
     },
     "output_type": "display_data"
    }
   ],
   "source": [
    "fig, ax = plt.subplots()\n",
    "ax.fill_between(X, \n",
    "                 f + 1.96 * f_std, \n",
    "                 f - 1.96 * f_std,\n",
    "                 color='red', alpha=0.1)\n",
    "ax.plot(X, f, color='red')\n",
    "ax.plot(X, u_model(X, theta_model), ls='--');"
   ]
  },
  {
   "cell_type": "code",
   "execution_count": null,
   "id": "sought-breed",
   "metadata": {},
   "outputs": [],
   "source": []
  }
 ],
 "metadata": {
  "kernelspec": {
   "display_name": "Python 3",
   "language": "python",
   "name": "python3"
  },
  "language_info": {
   "codemirror_mode": {
    "name": "ipython",
    "version": 3
   },
   "file_extension": ".py",
   "mimetype": "text/x-python",
   "name": "python",
   "nbconvert_exporter": "python",
   "pygments_lexer": "ipython3",
   "version": "3.9.1"
  },
  "toc": {
   "base_numbering": 1,
   "nav_menu": {},
   "number_sections": true,
   "sideBar": true,
   "skip_h1_title": false,
   "title_cell": "Table of Contents",
   "title_sidebar": "Contents",
   "toc_cell": false,
   "toc_position": {},
   "toc_section_display": true,
   "toc_window_display": false
  }
 },
 "nbformat": 4,
 "nbformat_minor": 5
}
