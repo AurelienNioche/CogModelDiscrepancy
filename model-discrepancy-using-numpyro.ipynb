{
 "cells": [
  {
   "cell_type": "code",
   "execution_count": 62,
   "id": "operational-resort",
   "metadata": {},
   "outputs": [],
   "source": [
    "import os\n",
    "import time\n",
    "\n",
    "import matplotlib\n",
    "import matplotlib.pyplot as plt\n",
    "import numpy as np\n",
    "import seaborn as sns\n",
    "import pandas as pd\n",
    "import scipy\n",
    "\n",
    "import jax\n",
    "from jax import vmap\n",
    "import jax.numpy as jnp\n",
    "import jax.random as random\n",
    "\n",
    "import numpyro\n",
    "import numpyro.distributions as dist\n",
    "from numpyro.infer import MCMC, NUTS, init_to_feasible, init_to_median, init_to_sample, \\\n",
    "    init_to_uniform, init_to_value\n",
    "\n",
    "from pymc3.gp.util import plot_gp_dist\n",
    "\n",
    "from tqdm import tqdm"
   ]
  },
  {
   "cell_type": "code",
   "execution_count": 45,
   "id": "juvenile-bracket",
   "metadata": {},
   "outputs": [],
   "source": [
    "# Don't sting my eyes\n",
    "%config InlineBackend.figure_format = 'retina'\n",
    "sns.set()"
   ]
  },
  {
   "cell_type": "markdown",
   "id": "divided-greek",
   "metadata": {},
   "source": [
    "# Utility models"
   ]
  },
  {
   "cell_type": "code",
   "execution_count": 46,
   "id": "sonic-paste",
   "metadata": {},
   "outputs": [],
   "source": [
    "def u_pow(x, theta): return x**theta"
   ]
  },
  {
   "cell_type": "code",
   "execution_count": 47,
   "id": "smoking-graphic",
   "metadata": {},
   "outputs": [],
   "source": [
    "def u_exp(x, theta): return 1 - np.exp(-theta*x)"
   ]
  },
  {
   "cell_type": "code",
   "execution_count": 48,
   "id": "radical-cable",
   "metadata": {},
   "outputs": [],
   "source": [
    "def u_lin(x, theta=None): return x"
   ]
  },
  {
   "cell_type": "markdown",
   "id": "fantastic-watershed",
   "metadata": {},
   "source": [
    "# Generate choice data"
   ]
  },
  {
   "cell_type": "code",
   "execution_count": 49,
   "id": "downtown-irrigation",
   "metadata": {
    "scrolled": true
   },
   "outputs": [],
   "source": [
    "def generate_data(u, seed=123, max_x=1, n=100, tau=3.333, theta=(0.5, )):\n",
    "    \n",
    "    np.random.seed(seed)\n",
    "    \n",
    "    data = pd.DataFrame(np.random.uniform(0, 1, size=(n*10, 4)), columns=[\"p0\", \"x0\", \"p1\", \"x1\"])\n",
    "    for i in range(2):\n",
    "        data[f\"x{i}\"] = data[f\"x{i}\"].values * max_x\n",
    "    data = data[~((data.p0 >= data.p1) & (data.x0 >= data.x1))]\n",
    "    data = data[~((data.p1 >= data.p0) & (data.x1 >= data.x0))]\n",
    "    data = data.sample(n=n, replace=False)\n",
    "    \n",
    "    p0 = data.p0.values\n",
    "    p1 = data.p1.values\n",
    "    x0 = data.x0.values\n",
    "    x1 = data.x1.values\n",
    "    \n",
    "    seu0 = p0 * u(x0, theta)\n",
    "    seu1 = p1 * u(x1, theta)\n",
    "\n",
    "    diff_eu = seu1 - seu0\n",
    "\n",
    "    p_choice_1 = scipy.special.expit(tau*diff_eu)\n",
    "    choices = np.zeros(n, dtype=int)\n",
    "    choices[:] = p_choice_1 > np.random.random(size=n)\n",
    "    data['choices'] = choices\n",
    "\n",
    "    return data"
   ]
  },
  {
   "cell_type": "code",
   "execution_count": 50,
   "id": "circular-plasma",
   "metadata": {},
   "outputs": [
    {
     "data": {
      "text/html": [
       "<div>\n",
       "<style scoped>\n",
       "    .dataframe tbody tr th:only-of-type {\n",
       "        vertical-align: middle;\n",
       "    }\n",
       "\n",
       "    .dataframe tbody tr th {\n",
       "        vertical-align: top;\n",
       "    }\n",
       "\n",
       "    .dataframe thead th {\n",
       "        text-align: right;\n",
       "    }\n",
       "</style>\n",
       "<table border=\"1\" class=\"dataframe\">\n",
       "  <thead>\n",
       "    <tr style=\"text-align: right;\">\n",
       "      <th></th>\n",
       "      <th>p0</th>\n",
       "      <th>x0</th>\n",
       "      <th>p1</th>\n",
       "      <th>x1</th>\n",
       "      <th>choices</th>\n",
       "    </tr>\n",
       "  </thead>\n",
       "  <tbody>\n",
       "    <tr>\n",
       "      <th>9002</th>\n",
       "      <td>0.696389</td>\n",
       "      <td>0.007647</td>\n",
       "      <td>0.617248</td>\n",
       "      <td>0.282997</td>\n",
       "      <td>1</td>\n",
       "    </tr>\n",
       "    <tr>\n",
       "      <th>7863</th>\n",
       "      <td>0.953285</td>\n",
       "      <td>0.292898</td>\n",
       "      <td>0.380948</td>\n",
       "      <td>0.552913</td>\n",
       "      <td>1</td>\n",
       "    </tr>\n",
       "    <tr>\n",
       "      <th>7455</th>\n",
       "      <td>0.060678</td>\n",
       "      <td>0.327938</td>\n",
       "      <td>0.685627</td>\n",
       "      <td>0.158464</td>\n",
       "      <td>1</td>\n",
       "    </tr>\n",
       "    <tr>\n",
       "      <th>3414</th>\n",
       "      <td>0.138550</td>\n",
       "      <td>0.276750</td>\n",
       "      <td>0.788651</td>\n",
       "      <td>0.125342</td>\n",
       "      <td>0</td>\n",
       "    </tr>\n",
       "    <tr>\n",
       "      <th>5796</th>\n",
       "      <td>0.116159</td>\n",
       "      <td>0.356232</td>\n",
       "      <td>0.732859</td>\n",
       "      <td>0.310642</td>\n",
       "      <td>0</td>\n",
       "    </tr>\n",
       "    <tr>\n",
       "      <th>...</th>\n",
       "      <td>...</td>\n",
       "      <td>...</td>\n",
       "      <td>...</td>\n",
       "      <td>...</td>\n",
       "      <td>...</td>\n",
       "    </tr>\n",
       "    <tr>\n",
       "      <th>2857</th>\n",
       "      <td>0.928569</td>\n",
       "      <td>0.159319</td>\n",
       "      <td>0.006656</td>\n",
       "      <td>0.571188</td>\n",
       "      <td>0</td>\n",
       "    </tr>\n",
       "    <tr>\n",
       "      <th>5417</th>\n",
       "      <td>0.621396</td>\n",
       "      <td>0.103035</td>\n",
       "      <td>0.601608</td>\n",
       "      <td>0.871169</td>\n",
       "      <td>1</td>\n",
       "    </tr>\n",
       "    <tr>\n",
       "      <th>1854</th>\n",
       "      <td>0.218694</td>\n",
       "      <td>0.560962</td>\n",
       "      <td>0.389658</td>\n",
       "      <td>0.026879</td>\n",
       "      <td>1</td>\n",
       "    </tr>\n",
       "    <tr>\n",
       "      <th>8834</th>\n",
       "      <td>0.980679</td>\n",
       "      <td>0.073375</td>\n",
       "      <td>0.877985</td>\n",
       "      <td>0.777087</td>\n",
       "      <td>1</td>\n",
       "    </tr>\n",
       "    <tr>\n",
       "      <th>6976</th>\n",
       "      <td>0.329744</td>\n",
       "      <td>0.401403</td>\n",
       "      <td>0.030272</td>\n",
       "      <td>0.846973</td>\n",
       "      <td>1</td>\n",
       "    </tr>\n",
       "  </tbody>\n",
       "</table>\n",
       "<p>1000 rows × 5 columns</p>\n",
       "</div>"
      ],
      "text/plain": [
       "            p0        x0        p1        x1  choices\n",
       "9002  0.696389  0.007647  0.617248  0.282997        1\n",
       "7863  0.953285  0.292898  0.380948  0.552913        1\n",
       "7455  0.060678  0.327938  0.685627  0.158464        1\n",
       "3414  0.138550  0.276750  0.788651  0.125342        0\n",
       "5796  0.116159  0.356232  0.732859  0.310642        0\n",
       "...        ...       ...       ...       ...      ...\n",
       "2857  0.928569  0.159319  0.006656  0.571188        0\n",
       "5417  0.621396  0.103035  0.601608  0.871169        1\n",
       "1854  0.218694  0.560962  0.389658  0.026879        1\n",
       "8834  0.980679  0.073375  0.877985  0.777087        1\n",
       "6976  0.329744  0.401403  0.030272  0.846973        1\n",
       "\n",
       "[1000 rows x 5 columns]"
      ]
     },
     "execution_count": 50,
     "metadata": {},
     "output_type": "execute_result"
    }
   ],
   "source": [
    "data = generate_data(u=u_pow, n=1000, tau=3.333, theta=(0.5, ))\n",
    "data"
   ]
  },
  {
   "cell_type": "markdown",
   "id": "wrapped-yemen",
   "metadata": {},
   "source": [
    "# Likelihood whole model given M, $\\theta_M$"
   ]
  },
  {
   "cell_type": "code",
   "execution_count": 51,
   "id": "raised-exploration",
   "metadata": {},
   "outputs": [],
   "source": [
    "def softplus(x):\n",
    "    return np.log(1 + np.exp(x))\n",
    "\n",
    "def objective(param, data, u_m):\n",
    "    \n",
    "    param = softplus(param)  # All parameters all supposed to be R+\n",
    "    \n",
    "    tau = param[0]\n",
    "    theta = param[1]\n",
    "    \n",
    "    p0 = data.p0.values\n",
    "    p1 = data.p1.values\n",
    "    x0 = data.x0.values\n",
    "    x1 = data.x1.values\n",
    "    y = data.choices.values \n",
    "    \n",
    "    seu0 = p0 * u_m(x0, theta)\n",
    "    seu1 = p1 * u_m(x1, theta)\n",
    "\n",
    "    diff_eu = seu1 - seu0\n",
    "\n",
    "    p_choice_1 = scipy.special.expit(tau*diff_eu) # p choose 1\n",
    "    p_choice_y = p_choice_1**y * (1-p_choice_1)**(1-y)\n",
    "    return - np.log(p_choice_y).sum()"
   ]
  },
  {
   "cell_type": "code",
   "execution_count": 52,
   "id": "unnecessary-stationery",
   "metadata": {},
   "outputs": [],
   "source": [
    "def optimize(data, u_m=u_pow, x0=None):\n",
    "    if x0 is None:\n",
    "        x0 = (0.0, 0.0) # Assume two parameters\n",
    "    opt = scipy.optimize.minimize(objective, x0=x0, args=(data, u_m))\n",
    "    return softplus(opt.x)"
   ]
  },
  {
   "cell_type": "code",
   "execution_count": 53,
   "id": "rental-chile",
   "metadata": {},
   "outputs": [
    {
     "data": {
      "text/plain": [
       "array([3.28496491, 0.53506426])"
      ]
     },
     "execution_count": 53,
     "metadata": {},
     "output_type": "execute_result"
    }
   ],
   "source": [
    "optimize(data, u_m=u_pow)"
   ]
  },
  {
   "cell_type": "markdown",
   "id": "bibliographic-contest",
   "metadata": {},
   "source": [
    "# Measure discrepancy"
   ]
  },
  {
   "cell_type": "code",
   "execution_count": 100,
   "id": "modified-seattle",
   "metadata": {},
   "outputs": [],
   "source": [
    "u_data = u_pow\n",
    "theta_data = 0.5\n",
    "tau_data = 3.333\n",
    "u_model = u_pow\n",
    "theta_model = 0.5\n",
    "tau_model = 3.333"
   ]
  },
  {
   "cell_type": "code",
   "execution_count": 101,
   "id": "governing-scott",
   "metadata": {},
   "outputs": [],
   "source": [
    "data = generate_data(u=u_data, tau=tau_data, theta=theta_data, n=200, seed=123)"
   ]
  },
  {
   "cell_type": "code",
   "execution_count": 102,
   "id": "latest-logging",
   "metadata": {},
   "outputs": [],
   "source": [
    "p0 = data.p0.values\n",
    "p1 = data.p1.values\n",
    "x0 = data.x0.values\n",
    "x1 = data.x1.values\n",
    "y = data.choices.values\n",
    "\n",
    "x = np.hstack((x0, x1))\n",
    "p = np.hstack((p0, p1))\n",
    "\n",
    "# compute M(x)\n",
    "X = jnp.array(x)\n",
    "uX = jnp.array(u_model(x, theta_model))\n",
    "P = jnp.array(p)\n",
    "y = jnp.array(y)\n",
    "\n",
    "n = y.shape[0]"
   ]
  },
  {
   "cell_type": "code",
   "execution_count": 103,
   "id": "specific-capability",
   "metadata": {},
   "outputs": [
    {
     "data": {
      "text/plain": [
       "array([3.97130767, 0.48028541])"
      ]
     },
     "execution_count": 103,
     "metadata": {},
     "output_type": "execute_result"
    }
   ],
   "source": [
    "optimize(data, u_m=u_pow)"
   ]
  },
  {
   "cell_type": "code",
   "execution_count": 104,
   "id": "interstate-straight",
   "metadata": {},
   "outputs": [],
   "source": [
    "def mean_function(x):\n",
    "    return u_model(x, theta_model)\n",
    "\n",
    "def kernel(X, Xs, var, length):\n",
    "    deltaX = jnp.power((X[:, None] - Xs) / length, 2.0)\n",
    "    k = var * jnp.exp(-0.5 * deltaX)\n",
    "    return k\n",
    "\n",
    "\n",
    "def compute_f(var, length, eta, mu, X, jitter=1.0e-6):\n",
    "    N = X.shape[0]\n",
    "    K = kernel(X, X, var, length) + jitter * jnp.eye(N)\n",
    "    L = jnp.linalg.cholesky(K)\n",
    "    return jnp.matmul(L, eta) + mu\n",
    "\n",
    "\n",
    "def model(X, y, P):\n",
    "    \n",
    "    N = X.shape[0]\n",
    "    \n",
    "    # set uninformative log-normal priors on our three kernel hyperparameters\n",
    "    # var = numpyro.sample(\"kernel_var\", dist.LogNormal(0.0, 10.0))\n",
    "    # length = numpyro.sample(\"kernel_length\", dist.LogNormal(0.0, 10.0))\n",
    "    \n",
    "    var = numpyro.sample('kernel_var', dist.HalfCauchy(5))\n",
    "    length = numpyro.sample('kernel_length', dist.InverseGamma(2, 2))\n",
    "    \n",
    "    # beta = numpyro.sample('beta', dist.Normal(np.zeros(N), 1))\n",
    "    eta = numpyro.sample('eta', dist.Normal(np.zeros(N), 1))\n",
    "    \n",
    "    mu = mean_function(X)\n",
    "    f = compute_f(var=var, length=length, mu=mu, eta=eta, X=X)\n",
    "    \n",
    "    est_eu =  P * f    \n",
    "    diff_eu_hat = est_eu[n:] - est_eu[:n]\n",
    "    \n",
    "    numpyro.sample(\"obs\", dist.Bernoulli(logits=tau_model*diff_eu_hat), obs=y)"
   ]
  },
  {
   "cell_type": "code",
   "execution_count": null,
   "id": "protected-traveler",
   "metadata": {},
   "outputs": [
    {
     "name": "stderr",
     "output_type": "stream",
     "text": [
      "warmup:   3%|▎         | 62/2000 [00:11<08:02,  4.01it/s, 2 steps of size 3.18e-08. acc. prob=0.76]   "
     ]
    }
   ],
   "source": [
    "# Set random seed for reproducibility.\n",
    "rng_key = random.PRNGKey(0)\n",
    "\n",
    "nuts = MCMC(NUTS(model, target_accept_prob=0.9, max_tree_depth=10),\n",
    "            num_samples=1000, num_warmup=1000)\n",
    "nuts.run(rng_key, X=X, y=y, P=P)"
   ]
  },
  {
   "cell_type": "code",
   "execution_count": null,
   "id": "polished-spouse",
   "metadata": {},
   "outputs": [],
   "source": [
    "def gp_predict(X, samples, i, Xnew=None, jitter=1.0e-6):\n",
    "    \n",
    "    var=samples['kernel_var'][i]\n",
    "    length=samples['kernel_length'][i]\n",
    "    eta=samples['eta'][i] \n",
    "    mu = mean_function(X)\n",
    "    \n",
    "    N = X.shape[0]\n",
    "    K = kernel(X, X, var, length) + jitter*jnp.eye(N)\n",
    "    L = jnp.linalg.cholesky(K)\n",
    "    f = jnp.matmul(L, eta) + mu\n",
    "    \n",
    "    if Xnew is not None:\n",
    "        M = Xnew.shape[0]\n",
    "        k_pp = kernel(Xnew, Xnew, var, length) + jitter*jnp.eye(M)\n",
    "        k_pX = kernel(Xnew, X, var, length)\n",
    "        k_XX = kernel(X, X, var, length) + jitter*jnp.eye(N)\n",
    "        K_xx_inv = jnp.linalg.inv(k_XX)\n",
    "        K = k_pp - jnp.matmul(k_pX, jnp.matmul(K_xx_inv, jnp.transpose(k_pX)))\n",
    "        # sigma_noise = jnp.sqrt(jnp.clip(jnp.diag(K), a_min=0.)) * jax.random.normal(rng_key, X_test.shape[:1])\n",
    "        f_predict = jnp.matmul(k_pX, jnp.matmul(K_xx_inv, f))\n",
    "    else:\n",
    "        f_predict = f\n",
    "    \n",
    "    return f_predict\n"
   ]
  },
  {
   "cell_type": "code",
   "execution_count": null,
   "id": "blind-migration",
   "metadata": {},
   "outputs": [],
   "source": [
    "nuts_samples = nuts.get_samples()\n",
    "\n",
    "Xtest = jnp.array(np.linspace(0, 1, 100))\n",
    "\n",
    "mu = mean_function(Xtest)\n",
    "n_samples = nuts_samples['kernel_var'].shape[0]\n",
    "f_predict = np.zeros((n_samples, Xtest.shape[0]))\n",
    "\n",
    "for i in tqdm(range(n_samples)):\n",
    "    f_predict[i] = gp_predict(X=X, Xnew=Xtest, samples=nuts_samples, i=i)"
   ]
  },
  {
   "cell_type": "code",
   "execution_count": null,
   "id": "guilty-attachment",
   "metadata": {
    "scrolled": true
   },
   "outputs": [],
   "source": [
    "fig, ax = plt.subplots()\n",
    "plot_gp_dist(ax, f_predict, Xtest)"
   ]
  },
  {
   "cell_type": "code",
   "execution_count": null,
   "id": "spatial-rocket",
   "metadata": {},
   "outputs": [],
   "source": []
  }
 ],
 "metadata": {
  "kernelspec": {
   "display_name": "Python 3",
   "language": "python",
   "name": "python3"
  },
  "language_info": {
   "codemirror_mode": {
    "name": "ipython",
    "version": 3
   },
   "file_extension": ".py",
   "mimetype": "text/x-python",
   "name": "python",
   "nbconvert_exporter": "python",
   "pygments_lexer": "ipython3",
   "version": "3.9.1"
  },
  "toc": {
   "base_numbering": 1,
   "nav_menu": {},
   "number_sections": true,
   "sideBar": true,
   "skip_h1_title": false,
   "title_cell": "Table of Contents",
   "title_sidebar": "Contents",
   "toc_cell": false,
   "toc_position": {},
   "toc_section_display": true,
   "toc_window_display": false
  }
 },
 "nbformat": 4,
 "nbformat_minor": 5
}
