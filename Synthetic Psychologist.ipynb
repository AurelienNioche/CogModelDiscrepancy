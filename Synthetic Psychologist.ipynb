{
 "cells": [
  {
   "cell_type": "code",
   "execution_count": 146,
   "metadata": {},
   "outputs": [],
   "source": [
    "import numpy as np\n",
    "import scipy.optimize\n",
    "import matplotlib.pyplot as plt\n",
    "from scipy.special import expit"
   ]
  },
  {
   "cell_type": "markdown",
   "metadata": {},
   "source": [
    "# Reward functions"
   ]
  },
  {
   "cell_type": "code",
   "execution_count": 147,
   "metadata": {},
   "outputs": [],
   "source": [
    "def h(p):\n",
    "    return - p * np.log(p)-(1-p) * np.log(1-p)"
   ]
  },
  {
   "cell_type": "code",
   "execution_count": 148,
   "metadata": {},
   "outputs": [],
   "source": [
    "def only_reward(p, x):\n",
    "    return p*x\n",
    "\n",
    "def reward_and_certainty(p, x):\n",
    "    return p*x * (1-h(p))"
   ]
  },
  {
   "cell_type": "code",
   "execution_count": 168,
   "metadata": {},
   "outputs": [],
   "source": [
    "def prospect_reward(p, x, gamma=0.8, alpha=0.1):\n",
    "    return np.exp(-(-np.log(p)) ** gamma)*x**(1-alpha)"
   ]
  },
  {
   "cell_type": "markdown",
   "metadata": {},
   "source": [
    "# Produce data"
   ]
  },
  {
   "cell_type": "code",
   "execution_count": 149,
   "metadata": {},
   "outputs": [],
   "source": [
    "# Seed\n",
    "np.random.seed(123)\n",
    "\n",
    "# Number of trials\n",
    "n_trial = 100\n",
    "\n",
    "# Number of lottery/option per trial\n",
    "n_option = 2\n",
    "\n",
    "p = np.random.random(size=(n_option, n_trial))\n",
    "x = np.random.random(size=(n_option, n_trial))"
   ]
  },
  {
   "cell_type": "code",
   "execution_count": 150,
   "metadata": {},
   "outputs": [],
   "source": [
    "data = {\n",
    "    \"tau\": 0.1,\n",
    "    \"n_trial\": n_trial,\n",
    "    \"n_option\": n_option,\n",
    "    \"p\": p,\n",
    "    \"x\": x,\n",
    "}"
   ]
  },
  {
   "cell_type": "markdown",
   "metadata": {},
   "source": [
    "# Optimize"
   ]
  },
  {
   "cell_type": "code",
   "execution_count": 151,
   "metadata": {},
   "outputs": [],
   "source": [
    "EPS = np.finfo(float).eps\n",
    "\n",
    "def objective(param, data, reward):\n",
    "    \n",
    "    alpha, gamma = param\n",
    "    \n",
    "    p = data[\"p\"]\n",
    "    x = data[\"x\"]\n",
    "    tau = data[\"tau\"]\n",
    "\n",
    "    sp = np.exp(-(-np.log(p)) ** gamma)\n",
    "    \n",
    "    su = x ** (1 - alpha)\n",
    "    \n",
    "    seu = sp * su\n",
    "    \n",
    "    p_choice = np.exp(seu/tau)\n",
    "    p_choice /= p_choice.sum(axis=0)\n",
    "    \n",
    "    r = 0\n",
    "    for i in range(n_trial):\n",
    "        c = np.random.choice(np.arange(n_option), p=p_choice[:, i])\n",
    "        r += reward(p=p[c, i], x=x[c, i])\n",
    "        \n",
    "    return -r"
   ]
  },
  {
   "cell_type": "code",
   "execution_count": 152,
   "metadata": {
    "scrolled": true
   },
   "outputs": [
    {
     "data": {
      "text/plain": [
       "      fun: -16.670527803511103\n",
       " hess_inv: <2x2 LbfgsInvHessProduct with dtype=float64>\n",
       "      jac: array([-16407969.99660681, -47193897.32739012])\n",
       "  message: 'CONVERGENCE: REL_REDUCTION_OF_F_<=_FACTR*EPSMCH'\n",
       "     nfev: 96\n",
       "      nit: 3\n",
       "     njev: 32\n",
       "   status: 0\n",
       "  success: True\n",
       "        x: array([2.85828877e-06, 1.00001095e+00])"
      ]
     },
     "execution_count": 152,
     "metadata": {},
     "output_type": "execute_result"
    }
   ],
   "source": [
    "# Define bounds and an initial guess\n",
    "bounds = (-3, 0.75), (0.25, 4)\n",
    "init_guess = (0, 1,)\n",
    "\n",
    "# Run the optimizer\n",
    "res = scipy.optimize.minimize(\n",
    "    fun=objective,\n",
    "    x0=init_guess,\n",
    "    bounds=bounds,\n",
    "    args=(data, reward_and_certainty))\n",
    "res"
   ]
  },
  {
   "cell_type": "markdown",
   "metadata": {},
   "source": [
    "A '[OptimizeResult](https://docs.scipy.org/doc/scipy/reference/generated/scipy.optimize.OptimizeResult.html#scipy.optimize.OptimizeResult)' is returned. It contains:\n",
    "* `fun` (NumPy array): Value of objective function.\n",
    "* `hess_inv` (object): Inverse of the objective function’s Hessian; may be an approximation. Not available for all solvers. The type of this attribute may be either np.ndarray or scipy.sparse.linalg.LinearOperator. Here, it is a scipy.sparse.linalg.LinearOperator.\n",
    "* `jac` (NumPy array): Value of the Jacobian.\n",
    "* `nfev` (int): Number of evaluations of the objective functions.\n",
    "* `message` (str): Description of the cause of the termination.\n",
    "* `nit` (int): Number of iterations performed by the optimizer.\n",
    "* `njev` (int): Number of evaluations of the objective functions and of its Jacobian.\n",
    "* `status` (int): Termination status of the optimizer. Its value depends on the underlying solver. Refer to message for details.\n",
    "* `success` (bool): Whether or not the optimizer exited successfully.\n",
    "* `x` (NumPy array): the solution of the optimization."
   ]
  },
  {
   "cell_type": "code",
   "execution_count": 153,
   "metadata": {},
   "outputs": [
    {
     "name": "stdout",
     "output_type": "stream",
     "text": [
      "Estimation parameters:  [2.85828877e-06 1.00001095e+00]\n",
      "LLS:  16.670527803511103\n"
     ]
    }
   ],
   "source": [
    "# Extract the best param and best value \n",
    "best_param = res.x\n",
    "best_value = res.fun\n",
    "\n",
    "print(\"Estimation parameters: \", best_param)\n",
    "print(\"LLS: \", - best_value)"
   ]
  },
  {
   "cell_type": "markdown",
   "metadata": {},
   "source": [
    "# Plot"
   ]
  },
  {
   "cell_type": "code",
   "execution_count": 154,
   "metadata": {},
   "outputs": [],
   "source": [
    "alpha_est, gamma_est = res.x"
   ]
  },
  {
   "cell_type": "code",
   "execution_count": 155,
   "metadata": {},
   "outputs": [
    {
     "data": {
      "image/png": "[encoded data removed]",
      "text/plain": [
       "<Figure size 432x432 with 1 Axes>"
      ]
     },
     "metadata": {
      "needs_background": "light"
     },
     "output_type": "display_data"
    }
   ],
   "source": [
    "# Utility function\n",
    "def f(x, alpha):\n",
    "    return x**(1-alpha)\n",
    "\n",
    "# Create fig\n",
    "fig, ax = plt.subplots(figsize=(6, 6))\n",
    "\n",
    "# Set limits\n",
    "x_min, x_max = 0, 1\n",
    "y_min, y_max = 0, 1\n",
    "\n",
    "# Generate x-values\n",
    "x = np.linspace(x_min, x_max, 1000)\n",
    "\n",
    "# Plot estimate\n",
    "ax.plot(x, f(x, alpha_est), label=\"fit\")\n",
    "\n",
    "# Plot truth\n",
    "# ax.plot(x, f(x, alpha_true), ls=':', label='true', color=\"red\")\n",
    "\n",
    "# Plot bounds\n",
    "ax.plot(x, f(x, bounds[0][0]), color='0.01', ls='--', lw=0.5, label=\"bounds\")\n",
    "ax.plot(x, f(x, bounds[0][1]), color='0.01', ls='--', lw=0.5)\n",
    "\n",
    "# Pimp your plot\n",
    "ax.set_xlabel('x')\n",
    "ax.set_ylabel('u(x)')\n",
    "ax.set_title('\"Optimal\" Utility function')\n",
    "ax.set_xlim(x_min, x_max)\n",
    "ax.set_ylim(y_min, y_max)\n",
    "ax.legend()\n",
    "\n",
    "plt.show()"
   ]
  },
  {
   "cell_type": "code",
   "execution_count": 158,
   "metadata": {
    "scrolled": true
   },
   "outputs": [
    {
     "data": {
      "image/png": "[encoded data removed]",
      "text/plain": [
       "<Figure size 432x432 with 1 Axes>"
      ]
     },
     "metadata": {
      "needs_background": "light"
     },
     "output_type": "display_data"
    }
   ],
   "source": [
    "# Probability perception function\n",
    "def f(x, gamma):\n",
    "    return np.exp(-(-np.log(x)) ** gamma)\n",
    "\n",
    "# Create fig\n",
    "fig, ax = plt.subplots(figsize=(6, 6))\n",
    "\n",
    "# Set limits\n",
    "x_min, x_max = 0.01, 1\n",
    "y_min, y_max = 0, 1\n",
    "\n",
    "# Generate x-values\n",
    "x = np.linspace(x_min, x_max, 100)\n",
    "\n",
    "# Plot mean\n",
    "ax.plot(x, f(x, gamma_est), label=\"fit\")\n",
    "\n",
    "# Plot truth\n",
    "# ax.plot(x, f(x, gamma_true), ls=':', label='true', color=\"red\")\n",
    "\n",
    "# Plot bounds\n",
    "ax.plot(x, f(x, bounds[1][0]), color='0.01', ls='--', lw=0.5, label=\"bounds\")\n",
    "ax.plot(x, f(x, bounds[1][1]), color='0.01', ls='--', lw=0.5)\n",
    "\n",
    "# Pimp your plot\n",
    "ax.set_xlabel('$p$')\n",
    "ax.set_ylabel('$w(p)$')\n",
    "ax.set_title('\"Optimized\" subjective probability perception function')\n",
    "ax.set_xlim(x_min, x_max)\n",
    "ax.set_ylim(y_min, y_max)\n",
    "\n",
    "ax.legend()\n",
    "plt.show()"
   ]
  },
  {
   "cell_type": "code",
   "execution_count": 159,
   "metadata": {},
   "outputs": [
    {
     "data": {
      "image/png": "[encoded data removed]",
      "text/plain": [
       "<Figure size 432x432 with 1 Axes>"
      ]
     },
     "metadata": {
      "needs_background": "light"
     },
     "output_type": "display_data"
    }
   ],
   "source": [
    "# Softmax function given the difference of value between 2 options\n",
    "def f(x, tau):\n",
    "    return expit(x/tau)\n",
    "\n",
    "# Create fig\n",
    "fig, ax = plt.subplots(figsize=(6, 6))\n",
    "\n",
    "# Set limits\n",
    "x_min, x_max = -1, 1\n",
    "y_min, y_max = 0, 1\n",
    "\n",
    "# Generate x-values\n",
    "x = np.linspace(x_min, x_max, 100)\n",
    "\n",
    "# Plot estimate\n",
    "# ax.plot(x, f(x, tau_est), label=\"fit\")\n",
    "\n",
    "# Plot truth\n",
    "ax.plot(x, f(x, data[\"tau\"]), ls=':', label='constraint', color=\"red\")\n",
    "\n",
    "# Pimp your plot\n",
    "ax.set_xlabel('$EU(L_1) - EU(L_2)$')\n",
    "ax.set_ylabel('$P(L_1)$')\n",
    "ax.set_title('Softmax function')\n",
    "ax.set_xlim(x_min, x_max)\n",
    "ax.set_ylim(y_min, y_max)\n",
    "ax.legend()\n",
    "\n",
    "plt.show()"
   ]
  },
  {
   "cell_type": "markdown",
   "metadata": {},
   "source": [
    "# Juechems et al. (2021)"
   ]
  },
  {
   "cell_type": "markdown",
   "metadata": {},
   "source": [
    "## Reward functions"
   ]
  },
  {
   "cell_type": "code",
   "execution_count": 237,
   "metadata": {},
   "outputs": [],
   "source": [
    "def h(p):\n",
    "    return - p * np.log(p)-(1-p) * np.log(1-p)"
   ]
  },
  {
   "cell_type": "code",
   "execution_count": 238,
   "metadata": {},
   "outputs": [],
   "source": [
    "def reward_only(p, x):\n",
    "    return p*x\n",
    "\n",
    "def reward_and_certainty(p, x):\n",
    "    return p*x * (1-h(p))"
   ]
  },
  {
   "cell_type": "code",
   "execution_count": 239,
   "metadata": {},
   "outputs": [],
   "source": [
    "def prospect_reward(p, x, gamma=0.8, alpha=0.1):\n",
    "    return np.exp(-(-np.log(p)) ** gamma)*x**(1-alpha)"
   ]
  },
  {
   "cell_type": "markdown",
   "metadata": {},
   "source": [
    "## Produce material"
   ]
  },
  {
   "cell_type": "code",
   "execution_count": 172,
   "metadata": {},
   "outputs": [],
   "source": [
    "# Seed\n",
    "np.random.seed(123)\n",
    "\n",
    "# Number of trials\n",
    "n_trial = 100\n",
    "\n",
    "# Number of lottery/option per trial\n",
    "n_option = 2\n",
    "\n",
    "steps = np.linspace(0.01,0.99, 10)"
   ]
  },
  {
   "cell_type": "code",
   "execution_count": 250,
   "metadata": {},
   "outputs": [],
   "source": [
    "import itertools as it\n",
    "import pandas as pd"
   ]
  },
  {
   "cell_type": "code",
   "execution_count": 252,
   "metadata": {},
   "outputs": [
    {
     "data": {
      "text/html": [
       "<div>\n",
       "<style scoped>\n",
       "    .dataframe tbody tr th:only-of-type {\n",
       "        vertical-align: middle;\n",
       "    }\n",
       "\n",
       "    .dataframe tbody tr th {\n",
       "        vertical-align: top;\n",
       "    }\n",
       "\n",
       "    .dataframe thead th {\n",
       "        text-align: right;\n",
       "    }\n",
       "</style>\n",
       "<table border=\"1\" class=\"dataframe\">\n",
       "  <thead>\n",
       "    <tr style=\"text-align: right;\">\n",
       "      <th></th>\n",
       "      <th>p0</th>\n",
       "      <th>x0</th>\n",
       "      <th>p1</th>\n",
       "      <th>x1</th>\n",
       "    </tr>\n",
       "  </thead>\n",
       "  <tbody>\n",
       "    <tr>\n",
       "      <th>0</th>\n",
       "      <td>0.01</td>\n",
       "      <td>0.01</td>\n",
       "      <td>0.01</td>\n",
       "      <td>0.010000</td>\n",
       "    </tr>\n",
       "    <tr>\n",
       "      <th>1</th>\n",
       "      <td>0.01</td>\n",
       "      <td>0.01</td>\n",
       "      <td>0.01</td>\n",
       "      <td>0.118889</td>\n",
       "    </tr>\n",
       "    <tr>\n",
       "      <th>2</th>\n",
       "      <td>0.01</td>\n",
       "      <td>0.01</td>\n",
       "      <td>0.01</td>\n",
       "      <td>0.227778</td>\n",
       "    </tr>\n",
       "    <tr>\n",
       "      <th>3</th>\n",
       "      <td>0.01</td>\n",
       "      <td>0.01</td>\n",
       "      <td>0.01</td>\n",
       "      <td>0.336667</td>\n",
       "    </tr>\n",
       "    <tr>\n",
       "      <th>4</th>\n",
       "      <td>0.01</td>\n",
       "      <td>0.01</td>\n",
       "      <td>0.01</td>\n",
       "      <td>0.445556</td>\n",
       "    </tr>\n",
       "    <tr>\n",
       "      <th>...</th>\n",
       "      <td>...</td>\n",
       "      <td>...</td>\n",
       "      <td>...</td>\n",
       "      <td>...</td>\n",
       "    </tr>\n",
       "    <tr>\n",
       "      <th>9995</th>\n",
       "      <td>0.99</td>\n",
       "      <td>0.99</td>\n",
       "      <td>0.99</td>\n",
       "      <td>0.554444</td>\n",
       "    </tr>\n",
       "    <tr>\n",
       "      <th>9996</th>\n",
       "      <td>0.99</td>\n",
       "      <td>0.99</td>\n",
       "      <td>0.99</td>\n",
       "      <td>0.663333</td>\n",
       "    </tr>\n",
       "    <tr>\n",
       "      <th>9997</th>\n",
       "      <td>0.99</td>\n",
       "      <td>0.99</td>\n",
       "      <td>0.99</td>\n",
       "      <td>0.772222</td>\n",
       "    </tr>\n",
       "    <tr>\n",
       "      <th>9998</th>\n",
       "      <td>0.99</td>\n",
       "      <td>0.99</td>\n",
       "      <td>0.99</td>\n",
       "      <td>0.881111</td>\n",
       "    </tr>\n",
       "    <tr>\n",
       "      <th>9999</th>\n",
       "      <td>0.99</td>\n",
       "      <td>0.99</td>\n",
       "      <td>0.99</td>\n",
       "      <td>0.990000</td>\n",
       "    </tr>\n",
       "  </tbody>\n",
       "</table>\n",
       "<p>10000 rows × 4 columns</p>\n",
       "</div>"
      ],
      "text/plain": [
       "        p0    x0    p1        x1\n",
       "0     0.01  0.01  0.01  0.010000\n",
       "1     0.01  0.01  0.01  0.118889\n",
       "2     0.01  0.01  0.01  0.227778\n",
       "3     0.01  0.01  0.01  0.336667\n",
       "4     0.01  0.01  0.01  0.445556\n",
       "...    ...   ...   ...       ...\n",
       "9995  0.99  0.99  0.99  0.554444\n",
       "9996  0.99  0.99  0.99  0.663333\n",
       "9997  0.99  0.99  0.99  0.772222\n",
       "9998  0.99  0.99  0.99  0.881111\n",
       "9999  0.99  0.99  0.99  0.990000\n",
       "\n",
       "[10000 rows x 4 columns]"
      ]
     },
     "execution_count": 252,
     "metadata": {},
     "output_type": "execute_result"
    }
   ],
   "source": [
    "task = pd.DataFrame(np.array(list(it.product(steps, repeat=4))), columns=[\"p0\", \"x0\", \"p1\", \"x1\"])\n",
    "task"
   ]
  },
  {
   "cell_type": "code",
   "execution_count": 256,
   "metadata": {},
   "outputs": [
    {
     "data": {
      "text/html": [
       "<div>\n",
       "<style scoped>\n",
       "    .dataframe tbody tr th:only-of-type {\n",
       "        vertical-align: middle;\n",
       "    }\n",
       "\n",
       "    .dataframe tbody tr th {\n",
       "        vertical-align: top;\n",
       "    }\n",
       "\n",
       "    .dataframe thead th {\n",
       "        text-align: right;\n",
       "    }\n",
       "</style>\n",
       "<table border=\"1\" class=\"dataframe\">\n",
       "  <thead>\n",
       "    <tr style=\"text-align: right;\">\n",
       "      <th></th>\n",
       "      <th>p0</th>\n",
       "      <th>x0</th>\n",
       "      <th>p1</th>\n",
       "      <th>x1</th>\n",
       "    </tr>\n",
       "  </thead>\n",
       "  <tbody>\n",
       "    <tr>\n",
       "      <th>0</th>\n",
       "      <td>0.01</td>\n",
       "      <td>0.01</td>\n",
       "      <td>0.01</td>\n",
       "      <td>0.010000</td>\n",
       "    </tr>\n",
       "    <tr>\n",
       "      <th>1</th>\n",
       "      <td>0.01</td>\n",
       "      <td>0.01</td>\n",
       "      <td>0.01</td>\n",
       "      <td>0.118889</td>\n",
       "    </tr>\n",
       "    <tr>\n",
       "      <th>2</th>\n",
       "      <td>0.01</td>\n",
       "      <td>0.01</td>\n",
       "      <td>0.01</td>\n",
       "      <td>0.227778</td>\n",
       "    </tr>\n",
       "    <tr>\n",
       "      <th>3</th>\n",
       "      <td>0.01</td>\n",
       "      <td>0.01</td>\n",
       "      <td>0.01</td>\n",
       "      <td>0.336667</td>\n",
       "    </tr>\n",
       "    <tr>\n",
       "      <th>4</th>\n",
       "      <td>0.01</td>\n",
       "      <td>0.01</td>\n",
       "      <td>0.01</td>\n",
       "      <td>0.445556</td>\n",
       "    </tr>\n",
       "    <tr>\n",
       "      <th>...</th>\n",
       "      <td>...</td>\n",
       "      <td>...</td>\n",
       "      <td>...</td>\n",
       "      <td>...</td>\n",
       "    </tr>\n",
       "    <tr>\n",
       "      <th>5945</th>\n",
       "      <td>0.99</td>\n",
       "      <td>0.99</td>\n",
       "      <td>0.99</td>\n",
       "      <td>0.554444</td>\n",
       "    </tr>\n",
       "    <tr>\n",
       "      <th>5946</th>\n",
       "      <td>0.99</td>\n",
       "      <td>0.99</td>\n",
       "      <td>0.99</td>\n",
       "      <td>0.663333</td>\n",
       "    </tr>\n",
       "    <tr>\n",
       "      <th>5947</th>\n",
       "      <td>0.99</td>\n",
       "      <td>0.99</td>\n",
       "      <td>0.99</td>\n",
       "      <td>0.772222</td>\n",
       "    </tr>\n",
       "    <tr>\n",
       "      <th>5948</th>\n",
       "      <td>0.99</td>\n",
       "      <td>0.99</td>\n",
       "      <td>0.99</td>\n",
       "      <td>0.881111</td>\n",
       "    </tr>\n",
       "    <tr>\n",
       "      <th>5949</th>\n",
       "      <td>0.99</td>\n",
       "      <td>0.99</td>\n",
       "      <td>0.99</td>\n",
       "      <td>0.990000</td>\n",
       "    </tr>\n",
       "  </tbody>\n",
       "</table>\n",
       "<p>5950 rows × 4 columns</p>\n",
       "</div>"
      ],
      "text/plain": [
       "        p0    x0    p1        x1\n",
       "0     0.01  0.01  0.01  0.010000\n",
       "1     0.01  0.01  0.01  0.118889\n",
       "2     0.01  0.01  0.01  0.227778\n",
       "3     0.01  0.01  0.01  0.336667\n",
       "4     0.01  0.01  0.01  0.445556\n",
       "...    ...   ...   ...       ...\n",
       "5945  0.99  0.99  0.99  0.554444\n",
       "5946  0.99  0.99  0.99  0.663333\n",
       "5947  0.99  0.99  0.99  0.772222\n",
       "5948  0.99  0.99  0.99  0.881111\n",
       "5949  0.99  0.99  0.99  0.990000\n",
       "\n",
       "[5950 rows x 4 columns]"
      ]
     },
     "execution_count": 256,
     "metadata": {},
     "output_type": "execute_result"
    }
   ],
   "source": [
    "task = task[~((task.p0 > task.p1) & (task.x0 > task.x1))]\n",
    "task = task[~((task.p1 > task.p0) & (task.x1 > task.x0))]\n",
    "task.reset_index(inplace=True, drop=True)\n",
    "task"
   ]
  },
  {
   "cell_type": "code",
   "execution_count": 283,
   "metadata": {},
   "outputs": [],
   "source": [
    "p = np.vstack((task.p0.values, task.p1.values)).T\n",
    "x = np.vstack((task.x0.values, task.x1.values)).T\n",
    "n_trial, n_option = p.shape\n",
    "data = {\n",
    "    \"p_steps\": steps,\n",
    "    \"x_steps\": steps,\n",
    "    \"tau\": 0.1,\n",
    "    \"n_trial\": n_trial,\n",
    "    \"n_option\": n_option,\n",
    "    \"p\": p,\n",
    "    \"x\": x,\n",
    "}"
   ]
  },
  {
   "cell_type": "code",
   "execution_count": 284,
   "metadata": {},
   "outputs": [],
   "source": [
    "def objective(param, data, reward):\n",
    "    \n",
    "    p = data[\"p\"]\n",
    "    x = data[\"x\"]\n",
    "    tau = data[\"tau\"]\n",
    "    x_steps = data[\"x_steps\"]\n",
    "    p_steps = data[\"p_steps\"]\n",
    "    n_trial = data[\"n_trial\"]\n",
    "    n_option = data[\"n_option\"]\n",
    "    \n",
    "    suf = dict(zip(x_steps, param[:len(x_steps)]))\n",
    "    spf = dict(zip(p_steps, param[len(x_steps):]))\n",
    "    \n",
    "    su = np.zeros((n_trial, n_option))\n",
    "    sp = np.zeros((n_trial, n_option))\n",
    "    \n",
    "    for i in range(n_trial):\n",
    "        for j in range(n_option):\n",
    "            su[i, j] = suf[x[i, j]]\n",
    "            sp[i, j] = spf[p[i, j]]\n",
    "            \n",
    "    seu = sp * su\n",
    "    \n",
    "    p_choice = np.exp(seu.T/tau)\n",
    "    p_choice /= p_choice.sum(axis=0)\n",
    "    p_choice = p_choice.T\n",
    "    \n",
    "    r = np.zeros(n_trial)\n",
    "    for i in range(n_trial):\n",
    "        \n",
    "        # c = int(p_choice[1] > p_choice[0])\n",
    "        c = np.random.choice(np.arange(n_option), p=p_choice[i])\n",
    "        r[i] = reward(p=p[i, c], x=x[i, c])\n",
    "        \n",
    "    return - r.sum()"
   ]
  },
  {
   "cell_type": "code",
   "execution_count": 292,
   "metadata": {
    "scrolled": true
   },
   "outputs": [
    {
     "data": {
      "text/plain": [
       "     fun: -1783.203748148148\n",
       "   maxcv: 0.0\n",
       " message: 'Optimization terminated successfully.'\n",
       "    nfev: 215\n",
       "  status: 1\n",
       " success: True\n",
       "       x: array([-0.53218441, -0.42657955,  0.16950043,  0.35060878,  0.47577397,\n",
       "        0.74233989,  0.94701114,  1.0877348 ,  1.21730894,  1.32661828,\n",
       "       -0.37855563, -0.11746797,  0.23026452,  0.30391181,  0.69151609,\n",
       "        0.86954727,  1.00662375,  1.03940985,  1.29255841,  1.50153374])"
      ]
     },
     "execution_count": 292,
     "metadata": {},
     "output_type": "execute_result"
    }
   ],
   "source": [
    "# Define bounds and an initial guess\n",
    "n_param = len(data[\"x_steps\"]) + len(data[\"p_steps\"])\n",
    "bounds = [(0., 1.) for _ in range(n_param)]\n",
    "init_guess = np.hstack((data[\"x_steps\"], data[\"p_steps\"]))\n",
    "\n",
    "# Run the optimizer\n",
    "res = scipy.optimize.minimize(\n",
    "    fun=objective,\n",
    "    x0=init_guess,\n",
    "    # bounds=bounds,\n",
    "    method='COBYLA',\n",
    "    args=(data, reward_only))\n",
    "# res = scipy.optimize.differential_evolution(\n",
    "#     func=objective,\n",
    "#     # x0=init_guess,\n",
    "#     bounds=bounds,\n",
    "#     args=(task, reward_only))\n",
    "res"
   ]
  },
  {
   "cell_type": "markdown",
   "metadata": {},
   "source": [
    "A '[OptimizeResult](https://docs.scipy.org/doc/scipy/reference/generated/scipy.optimize.OptimizeResult.html#scipy.optimize.OptimizeResult)' is returned. It contains:\n",
    "* `fun` (NumPy array): Value of objective function.\n",
    "* `hess_inv` (object): Inverse of the objective function’s Hessian; may be an approximation. Not available for all solvers. The type of this attribute may be either np.ndarray or scipy.sparse.linalg.LinearOperator. Here, it is a scipy.sparse.linalg.LinearOperator.\n",
    "* `jac` (NumPy array): Value of the Jacobian.\n",
    "* `nfev` (int): Number of evaluations of the objective functions.\n",
    "* `message` (str): Description of the cause of the termination.\n",
    "* `nit` (int): Number of iterations performed by the optimizer.\n",
    "* `njev` (int): Number of evaluations of the objective functions and of its Jacobian.\n",
    "* `status` (int): Termination status of the optimizer. Its value depends on the underlying solver. Refer to message for details.\n",
    "* `success` (bool): Whether or not the optimizer exited successfully.\n",
    "* `x` (NumPy array): the solution of the optimization."
   ]
  },
  {
   "cell_type": "code",
   "execution_count": 288,
   "metadata": {},
   "outputs": [],
   "source": [
    "su = res.x[:len(data[\"x_steps\"])]\n",
    "sp = res.x[len(data[\"x_steps\"]):]"
   ]
  },
  {
   "cell_type": "code",
   "execution_count": 289,
   "metadata": {},
   "outputs": [
    {
     "data": {
      "image/png": "[encoded data removed]",
      "text/plain": [
       "<Figure size 432x432 with 1 Axes>"
      ]
     },
     "metadata": {
      "needs_background": "light"
     },
     "output_type": "display_data"
    }
   ],
   "source": [
    "# Model-free utility function\n",
    "\n",
    "# Create fig\n",
    "fig, ax = plt.subplots(figsize=(6, 6))\n",
    "\n",
    "# Set limits\n",
    "x_min, x_max = 0, 1\n",
    "y_min, y_max = 0, 1\n",
    "\n",
    "# Plot estimate\n",
    "ax.plot(data[\"x_steps\"], su)\n",
    "\n",
    "# Pimp your plot\n",
    "ax.set_xlabel('x')\n",
    "ax.set_ylabel('u(x)')\n",
    "ax.set_title('Optimal model-free utility function')\n",
    "ax.set_xlim(x_min, x_max)\n",
    "ax.set_ylim(y_min, y_max)\n",
    "\n",
    "coord = np.vstack((data[\"x_steps\"], su))\n",
    "ax.scatter(coord[0], coord[1], alpha=0.5)\n",
    "\n",
    "plt.show()"
   ]
  },
  {
   "cell_type": "code",
   "execution_count": 290,
   "metadata": {},
   "outputs": [
    {
     "data": {
      "image/png": "[encoded data removed]",
      "text/plain": [
       "<Figure size 432x432 with 1 Axes>"
      ]
     },
     "metadata": {
      "needs_background": "light"
     },
     "output_type": "display_data"
    }
   ],
   "source": [
    "# Model-free probability function\n",
    "\n",
    "# Create fig\n",
    "fig, ax = plt.subplots(figsize=(6, 6))\n",
    "\n",
    "# Set limits\n",
    "x_min, x_max = 0, 1\n",
    "y_min, y_max = 0, 1\n",
    "\n",
    "# Plot estimate\n",
    "ax.plot(data[\"p_steps\"], sp)\n",
    "\n",
    "# Pimp your plot\n",
    "ax.set_xlabel('p')\n",
    "ax.set_ylabel('w(p)')\n",
    "ax.set_title('Optimal model-free probability function')\n",
    "ax.set_xlim(x_min, x_max)\n",
    "ax.set_ylim(y_min, y_max)\n",
    "\n",
    "coord = np.vstack((data[\"p_steps\"], sp))\n",
    "ax.scatter(coord[0], coord[1], alpha=0.5)\n",
    "\n",
    "plt.show()"
   ]
  },
  {
   "cell_type": "code",
   "execution_count": 282,
   "metadata": {},
   "outputs": [
    {
     "data": {
      "image/png": "[encoded data removed]",
      "text/plain": [
       "<Figure size 432x432 with 1 Axes>"
      ]
     },
     "metadata": {
      "needs_background": "light"
     },
     "output_type": "display_data"
    }
   ],
   "source": [
    "# Softmax function given the difference of value between 2 options\n",
    "def f(x, tau):\n",
    "    return expit(x/tau)\n",
    "\n",
    "# Create fig\n",
    "fig, ax = plt.subplots(figsize=(6, 6))\n",
    "\n",
    "# Set limits\n",
    "x_min, x_max = -1, 1\n",
    "y_min, y_max = 0, 1\n",
    "\n",
    "# Generate x-values\n",
    "x = np.linspace(x_min, x_max, 100)\n",
    "\n",
    "# Plot estimate\n",
    "# ax.plot(x, f(x, tau_est), label=\"fit\")\n",
    "\n",
    "# Plot truth\n",
    "ax.plot(x, f(x, data[\"tau\"]), ls=':', label='constraint', color=\"red\")\n",
    "\n",
    "# Pimp your plot\n",
    "ax.set_xlabel('$EU(L_1) - EU(L_2)$')\n",
    "ax.set_ylabel('$P(L_1)$')\n",
    "ax.set_title('Softmax function')\n",
    "ax.set_xlim(x_min, x_max)\n",
    "ax.set_ylim(y_min, y_max)\n",
    "ax.legend()\n",
    "\n",
    "plt.show()"
   ]
  },
  {
   "cell_type": "code",
   "execution_count": 276,
   "metadata": {},
   "outputs": [],
   "source": [
    "# p = np.array([sorted(np.random.choice(steps, size=n_option, replace=False)) for _ in range(n_trial)])\n",
    "# x = np.array([sorted(np.random.choice(steps, size=n_option, replace=False), reverse=True) for _ in range(n_trial)])\n",
    "# data = {\n",
    "#     \"p_steps\": steps,\n",
    "#     \"x_steps\": steps,\n",
    "#     \"tau\": 0.1,\n",
    "#     \"n_trial\": n_trial,\n",
    "#     \"n_option\": n_option,\n",
    "#     \"p\": p,\n",
    "#     \"x\": x,\n",
    "# }\n",
    "# def objective(param, task, reward):\n",
    "    \n",
    "#     p = data[\"p\"]\n",
    "#     x = data[\"x\"]\n",
    "#     tau = data[\"tau\"]\n",
    "#     x_steps = data[\"x_steps\"]\n",
    "#     p_steps = data[\"p_steps\"]\n",
    "#     n_trial = data[\"n_trial\"]\n",
    "#     n_option = data[\"n_option\"]\n",
    "    \n",
    "#     suf = dict(zip(x_steps, param[:len(x_steps)]))\n",
    "#     spf = dict(zip(p_steps, param[len(x_steps):]))\n",
    "    \n",
    "#     su = np.zeros((n_trial, n_option))\n",
    "#     sp = np.zeros((n_trial, n_option))\n",
    "    \n",
    "#     for i in range(n_trial):\n",
    "#         for j in range(n_option):\n",
    "#             su[i, j] = suf[x[i, j]]\n",
    "#             sp[i, j] = spf[p[i, j]]\n",
    "            \n",
    "#     seu = sp * su\n",
    "    \n",
    "#     r = np.zeros(n_trial)\n",
    "#     for i in range(n_trial):\n",
    "        \n",
    "#         p_choice = np.exp(seu[i]/tau)\n",
    "#         p_choice /= p_choice.sum()\n",
    "#         # c = int(p_choice[1] > p_choice[0])\n",
    "#         c = np.random.choice(np.arange(n_option), p=p_choice)\n",
    "#         r[i] = reward(p=p[i, c], x=x[i, c])\n",
    "        \n",
    "#     return - r.sum()"
   ]
  },
  {
   "cell_type": "code",
   "execution_count": null,
   "metadata": {},
   "outputs": [],
   "source": []
  }
 ],
 "metadata": {
  "kernelspec": {
   "display_name": "Python 3",
   "language": "python",
   "name": "python3"
  },
  "language_info": {
   "codemirror_mode": {
    "name": "ipython",
    "version": 3
   },
   "file_extension": ".py",
   "mimetype": "text/x-python",
   "name": "python",
   "nbconvert_exporter": "python",
   "pygments_lexer": "ipython3",
   "version": "3.9.1"
  }
 },
 "nbformat": 4,
 "nbformat_minor": 1
}
