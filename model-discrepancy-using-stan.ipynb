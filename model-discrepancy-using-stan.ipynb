{
 "cells": [
  {
   "cell_type": "code",
   "execution_count": 77,
   "id": "operational-resort",
   "metadata": {},
   "outputs": [],
   "source": [
    "import os\n",
    "import time\n",
    "\n",
    "import matplotlib\n",
    "import matplotlib.pyplot as plt\n",
    "import numpy as np\n",
    "import seaborn as sns\n",
    "import pandas as pd\n",
    "import scipy\n",
    "\n",
    "import jax\n",
    "from jax import vmap\n",
    "import jax.numpy as jnp\n",
    "import jax.random as random\n",
    "\n",
    "import numpyro\n",
    "import numpyro.distributions as dist\n",
    "from numpyro.infer import MCMC, NUTS, init_to_feasible, init_to_median, init_to_sample, \\\n",
    "    init_to_uniform, init_to_value\n",
    "\n",
    "from pymc3.gp.util import plot_gp_dist\n",
    "import pymc3 as pm\n",
    "# import pymc3.sampling_jax\n",
    "\n",
    "import cmdstanpy as stan\n",
    "import arviz as az\n",
    "\n",
    "from tqdm import tqdm"
   ]
  },
  {
   "cell_type": "code",
   "execution_count": 11,
   "id": "juvenile-bracket",
   "metadata": {},
   "outputs": [],
   "source": [
    "# Don't sting my eyes\n",
    "%config InlineBackend.figure_format = 'retina'\n",
    "sns.set()"
   ]
  },
  {
   "cell_type": "code",
   "execution_count": 12,
   "id": "hispanic-proof",
   "metadata": {},
   "outputs": [
    {
     "name": "stdout",
     "output_type": "stream",
     "text": [
      "The stanmagic extension is already loaded. To reload it, use:\n",
      "  %reload_ext stanmagic\n"
     ]
    }
   ],
   "source": [
    "%load_ext stanmagic"
   ]
  },
  {
   "cell_type": "code",
   "execution_count": 13,
   "id": "sonic-newman",
   "metadata": {},
   "outputs": [],
   "source": [
    "# Default to double precision.\n",
    "# numpyro.enable_x64()"
   ]
  },
  {
   "cell_type": "markdown",
   "id": "divided-greek",
   "metadata": {},
   "source": [
    "# Utility models"
   ]
  },
  {
   "cell_type": "code",
   "execution_count": 14,
   "id": "sonic-paste",
   "metadata": {},
   "outputs": [],
   "source": [
    "def u_pow(x, theta): return x**theta"
   ]
  },
  {
   "cell_type": "code",
   "execution_count": 15,
   "id": "smoking-graphic",
   "metadata": {},
   "outputs": [],
   "source": [
    "def u_exp(x, theta): return 1 - np.exp(-theta*x)"
   ]
  },
  {
   "cell_type": "code",
   "execution_count": 16,
   "id": "improving-palestinian",
   "metadata": {},
   "outputs": [],
   "source": [
    "def u_lin(x, theta=None): return x"
   ]
  },
  {
   "cell_type": "markdown",
   "id": "fantastic-watershed",
   "metadata": {},
   "source": [
    "# Generate choice data"
   ]
  },
  {
   "cell_type": "code",
   "execution_count": 17,
   "id": "downtown-irrigation",
   "metadata": {
    "scrolled": true
   },
   "outputs": [],
   "source": [
    "def generate_data(u, seed=123, max_x=1, n=100, tau=3.333, theta=0.5):\n",
    "    \n",
    "    np.random.seed(seed)\n",
    "    \n",
    "    data = pd.DataFrame(np.random.uniform(0, 1, size=(n*10, 4)), columns=[\"p0\", \"x0\", \"p1\", \"x1\"])\n",
    "    for i in range(2):\n",
    "        data[f\"x{i}\"] = data[f\"x{i}\"].values * max_x\n",
    "    data = data[~((data.p0 >= data.p1) & (data.x0 >= data.x1))]\n",
    "    data = data[~((data.p1 >= data.p0) & (data.x1 >= data.x0))]\n",
    "    data = data.sample(n=n, replace=False)\n",
    "    \n",
    "    p0 = data.p0.values\n",
    "    p1 = data.p1.values\n",
    "    x0 = data.x0.values\n",
    "    x1 = data.x1.values\n",
    "    \n",
    "    seu0 = p0 * u(x0, theta)\n",
    "    seu1 = p1 * u(x1, theta)\n",
    "\n",
    "    diff_eu = seu1 - seu0\n",
    "\n",
    "    p_choice_1 = scipy.special.expit(tau*diff_eu)\n",
    "    choices = np.zeros(n, dtype=int)\n",
    "    choices[:] = p_choice_1 > np.random.random(size=n)\n",
    "    data['choices'] = choices\n",
    "\n",
    "    return data"
   ]
  },
  {
   "cell_type": "code",
   "execution_count": 18,
   "id": "circular-plasma",
   "metadata": {},
   "outputs": [
    {
     "data": {
      "text/html": [
       "<div>\n",
       "<style scoped>\n",
       "    .dataframe tbody tr th:only-of-type {\n",
       "        vertical-align: middle;\n",
       "    }\n",
       "\n",
       "    .dataframe tbody tr th {\n",
       "        vertical-align: top;\n",
       "    }\n",
       "\n",
       "    .dataframe thead th {\n",
       "        text-align: right;\n",
       "    }\n",
       "</style>\n",
       "<table border=\"1\" class=\"dataframe\">\n",
       "  <thead>\n",
       "    <tr style=\"text-align: right;\">\n",
       "      <th></th>\n",
       "      <th>p0</th>\n",
       "      <th>x0</th>\n",
       "      <th>p1</th>\n",
       "      <th>x1</th>\n",
       "      <th>choices</th>\n",
       "    </tr>\n",
       "  </thead>\n",
       "  <tbody>\n",
       "    <tr>\n",
       "      <th>9002</th>\n",
       "      <td>0.696389</td>\n",
       "      <td>0.007647</td>\n",
       "      <td>0.617248</td>\n",
       "      <td>0.282997</td>\n",
       "      <td>1</td>\n",
       "    </tr>\n",
       "    <tr>\n",
       "      <th>7863</th>\n",
       "      <td>0.953285</td>\n",
       "      <td>0.292898</td>\n",
       "      <td>0.380948</td>\n",
       "      <td>0.552913</td>\n",
       "      <td>1</td>\n",
       "    </tr>\n",
       "    <tr>\n",
       "      <th>7455</th>\n",
       "      <td>0.060678</td>\n",
       "      <td>0.327938</td>\n",
       "      <td>0.685627</td>\n",
       "      <td>0.158464</td>\n",
       "      <td>1</td>\n",
       "    </tr>\n",
       "    <tr>\n",
       "      <th>3414</th>\n",
       "      <td>0.138550</td>\n",
       "      <td>0.276750</td>\n",
       "      <td>0.788651</td>\n",
       "      <td>0.125342</td>\n",
       "      <td>0</td>\n",
       "    </tr>\n",
       "    <tr>\n",
       "      <th>5796</th>\n",
       "      <td>0.116159</td>\n",
       "      <td>0.356232</td>\n",
       "      <td>0.732859</td>\n",
       "      <td>0.310642</td>\n",
       "      <td>0</td>\n",
       "    </tr>\n",
       "    <tr>\n",
       "      <th>...</th>\n",
       "      <td>...</td>\n",
       "      <td>...</td>\n",
       "      <td>...</td>\n",
       "      <td>...</td>\n",
       "      <td>...</td>\n",
       "    </tr>\n",
       "    <tr>\n",
       "      <th>2857</th>\n",
       "      <td>0.928569</td>\n",
       "      <td>0.159319</td>\n",
       "      <td>0.006656</td>\n",
       "      <td>0.571188</td>\n",
       "      <td>0</td>\n",
       "    </tr>\n",
       "    <tr>\n",
       "      <th>5417</th>\n",
       "      <td>0.621396</td>\n",
       "      <td>0.103035</td>\n",
       "      <td>0.601608</td>\n",
       "      <td>0.871169</td>\n",
       "      <td>1</td>\n",
       "    </tr>\n",
       "    <tr>\n",
       "      <th>1854</th>\n",
       "      <td>0.218694</td>\n",
       "      <td>0.560962</td>\n",
       "      <td>0.389658</td>\n",
       "      <td>0.026879</td>\n",
       "      <td>1</td>\n",
       "    </tr>\n",
       "    <tr>\n",
       "      <th>8834</th>\n",
       "      <td>0.980679</td>\n",
       "      <td>0.073375</td>\n",
       "      <td>0.877985</td>\n",
       "      <td>0.777087</td>\n",
       "      <td>1</td>\n",
       "    </tr>\n",
       "    <tr>\n",
       "      <th>6976</th>\n",
       "      <td>0.329744</td>\n",
       "      <td>0.401403</td>\n",
       "      <td>0.030272</td>\n",
       "      <td>0.846973</td>\n",
       "      <td>1</td>\n",
       "    </tr>\n",
       "  </tbody>\n",
       "</table>\n",
       "<p>1000 rows × 5 columns</p>\n",
       "</div>"
      ],
      "text/plain": [
       "            p0        x0        p1        x1  choices\n",
       "9002  0.696389  0.007647  0.617248  0.282997        1\n",
       "7863  0.953285  0.292898  0.380948  0.552913        1\n",
       "7455  0.060678  0.327938  0.685627  0.158464        1\n",
       "3414  0.138550  0.276750  0.788651  0.125342        0\n",
       "5796  0.116159  0.356232  0.732859  0.310642        0\n",
       "...        ...       ...       ...       ...      ...\n",
       "2857  0.928569  0.159319  0.006656  0.571188        0\n",
       "5417  0.621396  0.103035  0.601608  0.871169        1\n",
       "1854  0.218694  0.560962  0.389658  0.026879        1\n",
       "8834  0.980679  0.073375  0.877985  0.777087        1\n",
       "6976  0.329744  0.401403  0.030272  0.846973        1\n",
       "\n",
       "[1000 rows x 5 columns]"
      ]
     },
     "execution_count": 18,
     "metadata": {},
     "output_type": "execute_result"
    }
   ],
   "source": [
    "data = generate_data(u=u_pow, n=1000, tau=3.333, theta=(0.5, ))\n",
    "data"
   ]
  },
  {
   "cell_type": "markdown",
   "id": "wrapped-yemen",
   "metadata": {},
   "source": [
    "# Likelihood whole model given M, $\\theta_M$"
   ]
  },
  {
   "cell_type": "code",
   "execution_count": 19,
   "id": "raised-exploration",
   "metadata": {},
   "outputs": [],
   "source": [
    "def softplus(x):\n",
    "    return np.log(1 + np.exp(x))\n",
    "\n",
    "def objective(param, data, u_m):\n",
    "    \n",
    "    param = softplus(param)  # All parameters all supposed to be R+\n",
    "    \n",
    "    tau = param[0]\n",
    "    theta = param[1]\n",
    "    \n",
    "    p0 = data.p0.values\n",
    "    p1 = data.p1.values\n",
    "    x0 = data.x0.values\n",
    "    x1 = data.x1.values\n",
    "    y = data.choices.values \n",
    "    \n",
    "    seu0 = p0 * u_m(x0, theta)\n",
    "    seu1 = p1 * u_m(x1, theta)\n",
    "\n",
    "    diff_eu = seu1 - seu0\n",
    "\n",
    "    p_choice_1 = scipy.special.expit(tau*diff_eu) # p choose 1\n",
    "    p_choice_y = p_choice_1**y * (1-p_choice_1)**(1-y)\n",
    "    return - np.log(p_choice_y).sum()"
   ]
  },
  {
   "cell_type": "code",
   "execution_count": 20,
   "id": "unnecessary-stationery",
   "metadata": {},
   "outputs": [],
   "source": [
    "def optimize(data, u_m=u_pow, x0=None):\n",
    "    if x0 is None:\n",
    "        x0 = (0.0, 0.0) # Assume two parameters\n",
    "    opt = scipy.optimize.minimize(objective, x0=x0, args=(data, u_m))\n",
    "    return softplus(opt.x)"
   ]
  },
  {
   "cell_type": "code",
   "execution_count": 21,
   "id": "rental-chile",
   "metadata": {},
   "outputs": [
    {
     "data": {
      "text/plain": [
       "array([3.28496491, 0.53506426])"
      ]
     },
     "execution_count": 21,
     "metadata": {},
     "output_type": "execute_result"
    }
   ],
   "source": [
    "optimize(data, u_m=u_pow)"
   ]
  },
  {
   "cell_type": "markdown",
   "id": "bibliographic-contest",
   "metadata": {},
   "source": [
    "# Measure discrepancy"
   ]
  },
  {
   "cell_type": "markdown",
   "id": "native-lobby",
   "metadata": {},
   "source": [
    "## Generate data"
   ]
  },
  {
   "cell_type": "code",
   "execution_count": 69,
   "id": "baking-stationery",
   "metadata": {},
   "outputs": [],
   "source": [
    "u_data = u_pow\n",
    "theta_data = 0.5\n",
    "tau_data = 3.333"
   ]
  },
  {
   "cell_type": "code",
   "execution_count": 70,
   "id": "overhead-tribute",
   "metadata": {},
   "outputs": [],
   "source": [
    "data = generate_data(u=u_data, tau=tau_data, theta=theta_data, n=1000, seed=123)\n",
    "np.random.seed(12345)\n",
    "data = data.sample(n=100, replace=False)"
   ]
  },
  {
   "cell_type": "code",
   "execution_count": 71,
   "id": "institutional-problem",
   "metadata": {},
   "outputs": [
    {
     "data": {
      "text/plain": [
       "array([3.4444072 , 0.39557323])"
      ]
     },
     "execution_count": 71,
     "metadata": {},
     "output_type": "execute_result"
    }
   ],
   "source": [
    "optimize(data, u_m=u_pow)"
   ]
  },
  {
   "cell_type": "code",
   "execution_count": 128,
   "id": "liked-prevention",
   "metadata": {
    "scrolled": true
   },
   "outputs": [
    {
     "name": "stdout",
     "output_type": "stream",
     "text": [
      "Using stanc compiler:  ~/.cmdstan/cmdstan-2.26.1/bin/stanc\n",
      "~/.cmdstan/cmdstan-2.26.1/bin/stanc --o=/var/folders/yg/spp3n_c56vxbgvjy9wthwy_h0000gn/T/b6e3cf9c-e8b7-4142-8869-959c87d463ea.cpp gp_model.stan\n",
      "\n",
      "-------------------------------------------------------------------------------\n",
      "Model compiled successfully. Output stored in model object.\n",
      "Type model in a cell to see a nicely formatted code output in a notebook\n",
      "     ^^^^^\n",
      "Access model compile output properties\n",
      "model.model_file -> Name of stan_file [gp_model.stan]\n",
      "model.model_name -> Name of stan model [gp_model_model]\n",
      "model.model_code -> Model code [data {   int<lower=0 ....]\n"
     ]
    }
   ],
   "source": [
    "%%stan -f gp_model.stan -v gp_model --stanc ~/.cmdstan/cmdstan-2.26.1/bin/stanc\n",
    "data {\n",
    "  int<lower=0> N;\n",
    "  int<lower=0> N_y;\n",
    "  vector<lower=0, upper=1>[N] p;\n",
    "  vector[N] x;\n",
    "  int<lower=0, upper=1> y[N_y];\n",
    "  int belong0[N_y];\n",
    "  int belong1[N_y];\n",
    "  real theta;\n",
    "  real tau;\n",
    "  real jitter;\n",
    "  vector[N] mu;\n",
    "}\n",
    "transformed data {\n",
    "  matrix[N, N] diag_jitter;\n",
    "  diag_jitter = diag_matrix(rep_vector(jitter, N));\n",
    "}\n",
    "parameters {\n",
    "  real<lower=0> kernel_length;\n",
    "  real<lower=0> kernel_var; \n",
    "  vector[N] eta;\n",
    "}\n",
    "transformed parameters{\n",
    "}\n",
    "model {\n",
    "  vector[N] seu;\n",
    "  vector[N_y] seu0;\n",
    "  vector[N_y] seu1;\n",
    "  vector[N_y] diff_eu;\n",
    "  matrix[N, N] L;\n",
    "  matrix[N, N] K;\n",
    "  vector[N] f;\n",
    "  \n",
    "  kernel_length ~ lognormal(0, 10);\n",
    "  kernel_var ~ lognormal(0, 10);\n",
    "  eta ~ std_normal();\n",
    "  \n",
    "  K = gp_exp_quad_cov(to_array_1d(x), kernel_var, kernel_length) + diag_jitter;\n",
    "  L = cholesky_decompose(K);\n",
    "  \n",
    "  f = mu + L*eta;\n",
    "  \n",
    "  seu = p .* f;\n",
    "  seu0 = seu[belong0];\n",
    "  seu1 = seu[belong1];\n",
    "  diff_eu = seu1 - seu0;\n",
    "  y ~ bernoulli_logit(tau * diff_eu);\n",
    "}\n",
    "generated quantities {\n",
    "}"
   ]
  },
  {
   "cell_type": "code",
   "execution_count": 133,
   "id": "considerable-resistance",
   "metadata": {},
   "outputs": [],
   "source": [
    "def prepare_data_for_stan(data):\n",
    "    \n",
    "    p0 = data.p0.values\n",
    "    p1 = data.p1.values\n",
    "    x0 = data.x0.values\n",
    "    x1 = data.x1.values\n",
    "    y = data.choices.values\n",
    "\n",
    "    x = np.hstack((x0, x1))\n",
    "    p = np.hstack((p0, p1))\n",
    "\n",
    "    x_order = np.argsort(x)\n",
    "    x_sorted = x[x_order]\n",
    "    p_sorted = p[x_order]\n",
    "    undo_sorted = np.argsort(x_order)\n",
    "\n",
    "    return {\n",
    "        'tau': tau_data,\n",
    "        'theta': theta_data,\n",
    "        'p': p_sorted,\n",
    "        'x': x_sorted,\n",
    "        'y': y,\n",
    "        'N_y': len(y),\n",
    "        'N': len(x),\n",
    "        'jitter': 1e-06,\n",
    "        'belong0': undo_sorted[:len(y)] + 1,\n",
    "        'belong1': undo_sorted[len(y):] + 1,\n",
    "        'mu': x_sorted} "
   ]
  },
  {
   "cell_type": "code",
   "execution_count": 134,
   "id": "administrative-approval",
   "metadata": {},
   "outputs": [],
   "source": [
    "stan_data = prepare_data_for_stan(data)"
   ]
  },
  {
   "cell_type": "code",
   "execution_count": 131,
   "id": "lesbian-relation",
   "metadata": {},
   "outputs": [
    {
     "name": "stderr",
     "output_type": "stream",
     "text": [
      "INFO:cmdstanpy:compiling stan program, exe file: /Users/aureliennioche/Documents/PythonProjects/CogModelDiscrepancy/gp_model\n",
      "INFO:cmdstanpy:compiler options: stanc_options=None, cpp_options=None\n",
      "INFO:cmdstanpy:compiled model file: /Users/aureliennioche/Documents/PythonProjects/CogModelDiscrepancy/gp_model\n"
     ]
    }
   ],
   "source": [
    "stan_model = stan.CmdStanModel(stan_file=gp_model.model_file)"
   ]
  },
  {
   "cell_type": "code",
   "execution_count": 135,
   "id": "educational-gates",
   "metadata": {},
   "outputs": [
    {
     "data": {
      "application/vnd.jupyter.widget-view+json": {
       "model_id": "",
       "version_major": 2,
       "version_minor": 0
      },
      "text/plain": [
       "Chain 1 - warmup:   0%|          | 0/1 [00:00<?, ?it/s]"
      ]
     },
     "metadata": {},
     "output_type": "display_data"
    },
    {
     "data": {
      "application/vnd.jupyter.widget-view+json": {
       "model_id": "",
       "version_major": 2,
       "version_minor": 0
      },
      "text/plain": [
       "Chain 2 - warmup:   0%|          | 0/1 [00:00<?, ?it/s]"
      ]
     },
     "metadata": {},
     "output_type": "display_data"
    }
   ],
   "source": [
    "trace = stan_model.sample(data=stan_data, show_progress=\"notebook\", chains=2)"
   ]
  },
  {
   "cell_type": "code",
   "execution_count": 136,
   "id": "contrary-indie",
   "metadata": {},
   "outputs": [],
   "source": [
    "samples_az = az.from_cmdstanpy(trace)"
   ]
  },
  {
   "cell_type": "code",
   "execution_count": 137,
   "id": "friendly-garden",
   "metadata": {},
   "outputs": [],
   "source": [
    "def kernel(X, Xs, length):\n",
    "    deltaX = np.power((X[:, None] - Xs) / length, 2.0)\n",
    "    return np.exp(-0.5 * deltaX)\n",
    "\n",
    "def gp_predict(X, samples_az, u_model, theta_model, Xnew=None, jitter=1.0e-6, use_ratio=False):\n",
    "    \n",
    "    n_sample = samples_az.posterior[\"kernel_var\"].shape[0] * samples_az.posterior[\"kernel_var\"].shape[1]\n",
    "    \n",
    "    var_samples = np.array(samples_az.posterior[\"kernel_var\"]).reshape(n_sample, -1)\n",
    "    length_samples = np.array(samples_az.posterior[\"kernel_length\"]).reshape(n_sample, -1)\n",
    "    eta_samples = np.array(samples_az.posterior[\"eta\"]).reshape(n_sample, -1)\n",
    "    \n",
    "    # print(np.isnan(var_samples).any())\n",
    "    # print(np.isnan(length_samples).any())\n",
    "    # print(np.isnan(eta_samples).any())\n",
    "    \n",
    "    N = X.shape[0]\n",
    "    f_predict = np.zeros((n_sample, N))\n",
    "    \n",
    "    uX = np.array(u_model(X, theta_model)).reshape(-1, 1)\n",
    "    # print(np.isnan(uX).any())\n",
    "    if use_ratio:\n",
    "        factor = np.dot(uX, uX.T)\n",
    "    else:\n",
    "        factor = 1\n",
    "    \n",
    "    for i in tqdm(range(n_sample)):\n",
    "    \n",
    "        var=var_samples[i]\n",
    "        length=length_samples[i]\n",
    "        eta=eta_samples[i] \n",
    "\n",
    "        k_XX = factor * var**2 * kernel(X, X, length) + jitter*np.eye(N)\n",
    "        L = np.linalg.cholesky(k_XX)\n",
    "        f = uX.flatten() + L.dot(eta)\n",
    "\n",
    "        if Xnew is not None:\n",
    "            M = Xnew.shape[0]\n",
    "\n",
    "            up = jnp.array(u_model(Xnew, theta_model)).reshape(-1, 1)\n",
    "            if use_ratio:\n",
    "                factor_Xp = jnp.dot(uX, up.T)\n",
    "            else:\n",
    "                factor_Xp = 1\n",
    "            K_Xp = factor_Xp * var**2 * kernel(X, Xnew, length)\n",
    "\n",
    "            A = jax.scipy.linalg.solve_triangular(L, K_Xp, lower=True)\n",
    "            v = jax.scipy.linalg.solve_triangular(L, f - uX.flatten(), lower=True)\n",
    "\n",
    "            f_predict[i] = up.flatten() + jnp.dot(A.T, v)\n",
    "\n",
    "        else:\n",
    "            f_predict[i] = f\n",
    "    \n",
    "    return f_predict"
   ]
  },
  {
   "cell_type": "code",
   "execution_count": 138,
   "id": "incomplete-breathing",
   "metadata": {},
   "outputs": [
    {
     "name": "stderr",
     "output_type": "stream",
     "text": [
      "100%|██████████| 2000/2000 [00:02<00:00, 684.63it/s]\n"
     ]
    }
   ],
   "source": [
    "f_samples = gp_predict(X=x_sorted, samples_az=samples_az, u_model=u_data, theta_model=theta_data)"
   ]
  },
  {
   "cell_type": "code",
   "execution_count": 139,
   "id": "victorian-illness",
   "metadata": {},
   "outputs": [
    {
     "data": {
      "image/png": "[encoded data removed]",
      "text/plain": [
       "<Figure size 432x288 with 1 Axes>"
      ]
     },
     "metadata": {
      "image/png": {
       "height": 251,
       "width": 374
      }
     },
     "output_type": "display_data"
    }
   ],
   "source": [
    "fig, ax = plt.subplots()\n",
    "plot_gp_dist(ax, f_samples, X)\n",
    "# ax.plot(X, u_model(X, theta=theta_model), ls=\"--\");\n",
    "ax.plot(X, u_data(X, theta=theta_data), ls=':', color=\"C2\");"
   ]
  },
  {
   "cell_type": "markdown",
   "id": "exempt-anger",
   "metadata": {},
   "source": [
    "# Sparse"
   ]
  },
  {
   "cell_type": "code",
   "execution_count": 223,
   "id": "radical-rocket",
   "metadata": {},
   "outputs": [
    {
     "name": "stdout",
     "output_type": "stream",
     "text": [
      "Using stanc compiler:  ~/.cmdstan/cmdstan-2.26.1/bin/stanc\n",
      "~/.cmdstan/cmdstan-2.26.1/bin/stanc --o=/var/folders/yg/spp3n_c56vxbgvjy9wthwy_h0000gn/T/41df2b95-9f96-4435-a98d-6172e97bc788.cpp sparse_gp_model.stan\n",
      "\n",
      "-------------------------------------------------------------------------------\n",
      "Model compiled successfully. Output stored in sparse_model object.\n",
      "Type sparse_model in a cell to see a nicely formatted code output in a notebook\n",
      "     ^^^^^^^^^^^^\n",
      "Access model compile output properties\n",
      "sparse_model.model_file -> Name of stan_file [sparse_gp_model.stan]\n",
      "sparse_model.model_name -> Name of stan model [sparse_gp_model_model]\n",
      "sparse_model.model_code -> Model code [functions {   vector ....]\n"
     ]
    }
   ],
   "source": [
    "%%stan -f sparse_gp_model.stan -v sparse_model --stanc ~/.cmdstan/cmdstan-2.26.1/bin/stanc\n",
    "functions {\n",
    "  vector u_pow(vector x, real theta) {\n",
    "    return pow(x, theta); \n",
    "  }\n",
    "} \n",
    "\n",
    "data {\n",
    "  int<lower=0> N;\n",
    "  int<lower=0> N_y;\n",
    "  vector<lower=0, upper=1>[N] p;\n",
    "  vector[N] X;\n",
    "  int<lower=0, upper=1> y[N_y];\n",
    "  int belong0[N_y];\n",
    "  int belong1[N_y];\n",
    "  real theta;\n",
    "  real tau;\n",
    "  real jitter;\n",
    "  int M;\n",
    "  int<lower=0, upper=1> u_model_index;\n",
    "}\n",
    "transformed data {\n",
    "  matrix[M, M] diag_jitter;\n",
    "  diag_jitter = diag_matrix(rep_vector(jitter, M));\n",
    "}\n",
    "parameters {\n",
    "  real<lower=0> kernel_length;\n",
    "  real<lower=0> kernel_var; \n",
    "  vector[M] eta;\n",
    "  vector<lower=0, upper=1>[M] Xm;\n",
    "}\n",
    "transformed parameters{\n",
    "}\n",
    "model {\n",
    "  vector[N] seu;\n",
    "  vector[N_y] seu0;\n",
    "  vector[N_y] seu1;\n",
    "  vector[N] Mp;\n",
    "  vector[N] f_predict;\n",
    "  vector[N_y] diff_eu;\n",
    "  matrix[M, M] L;\n",
    "  matrix[M, M] K;\n",
    "  vector[M] f;\n",
    "  matrix[M, N] K_mp;\n",
    "  vector[M] Mm;\n",
    "  vector[M] L_dot_eta;\n",
    "  matrix[M, N] A;\n",
    "  vector[M] v;\n",
    "  \n",
    "  kernel_length ~ normal(0, 1);\n",
    "  kernel_var ~ normal(0, 1);\n",
    "  eta ~ std_normal();\n",
    "  Xm ~ uniform(0, 1);\n",
    "\n",
    "  K = gp_exp_quad_cov(to_array_1d(Xm), kernel_var, kernel_length) + diag_jitter;\n",
    "  L = cholesky_decompose(K);\n",
    "\n",
    "  // if (u_model_index == 0) {\n",
    "  Mm = Xm;\n",
    "  Mp = X;\n",
    "  //}\n",
    "  // else if (u_model_index == 1) {\n",
    "  // Mm = u_pow(Xm, theta);\n",
    "  // Mp = u_pow(X, theta);\n",
    "  // }\n",
    "  // else\n",
    "  //  reject(\"u_model_index incorrect\", u_model_index);\n",
    "\n",
    "  L_dot_eta = L*eta;\n",
    "  f = Mm + L_dot_eta;\n",
    "\n",
    "  K_mp = gp_exp_quad_cov(to_array_1d(Xm), to_array_1d(X), kernel_var, kernel_length);\n",
    "  A = mdivide_left_tri_low(L, K_mp);\n",
    "  v = mdivide_left_tri_low(L, L_dot_eta);\n",
    "\n",
    "  f_predict = Mp + A' * v;\n",
    "\n",
    "  seu = p .* f_predict;\n",
    "  seu0 = seu[belong0];\n",
    "  seu1 = seu[belong1];\n",
    "  diff_eu = seu1 - seu0;\n",
    "  y ~ bernoulli_logit(tau * diff_eu);\n",
    "}\n",
    "generated quantities {\n",
    "}"
   ]
  },
  {
   "cell_type": "code",
   "execution_count": 224,
   "id": "average-lincoln",
   "metadata": {},
   "outputs": [],
   "source": [
    "def prepare_data_for_stan_sparse(data):\n",
    "    \n",
    "    p0 = data.p0.values\n",
    "    p1 = data.p1.values\n",
    "    x0 = data.x0.values\n",
    "    x1 = data.x1.values\n",
    "    y = data.choices.values\n",
    "\n",
    "    x = np.hstack((x0, x1))\n",
    "    p = np.hstack((p0, p1))\n",
    "\n",
    "    x_order = np.argsort(x)\n",
    "    x_sorted = x[x_order]\n",
    "    p_sorted = p[x_order]\n",
    "    undo_sorted = np.argsort(x_order)\n",
    "\n",
    "    return {\n",
    "        'tau': tau_data,\n",
    "        'theta': theta_data,\n",
    "        'p': p_sorted,\n",
    "        'X': x_sorted,\n",
    "        'y': y,\n",
    "        'N_y': len(y),\n",
    "        'N': len(x),\n",
    "        'jitter': 1e-06,\n",
    "        'belong0': undo_sorted[:len(y)] + 1,\n",
    "        'belong1': undo_sorted[len(y):] + 1,\n",
    "        'M': 100,\n",
    "        'u_model_index': 0\n",
    "    } "
   ]
  },
  {
   "cell_type": "code",
   "execution_count": 225,
   "id": "stable-content",
   "metadata": {},
   "outputs": [],
   "source": [
    "stan_sparse_data = prepare_data_for_stan_sparse(data)"
   ]
  },
  {
   "cell_type": "code",
   "execution_count": 226,
   "id": "hungry-calibration",
   "metadata": {},
   "outputs": [],
   "source": [
    "stan_sparse_model = stan.CmdStanModel(stan_file=sparse_model.model_file)"
   ]
  },
  {
   "cell_type": "code",
   "execution_count": null,
   "id": "fancy-rebel",
   "metadata": {},
   "outputs": [
    {
     "data": {
      "application/vnd.jupyter.widget-view+json": {
       "model_id": "258fd000a4e141c5abee7b4556f7fc0f",
       "version_major": 2,
       "version_minor": 0
      },
      "text/plain": [
       "Chain 1 - warmup:   0%|          | 0/1 [00:00<?, ?it/s]"
      ]
     },
     "metadata": {},
     "output_type": "display_data"
    },
    {
     "data": {
      "application/vnd.jupyter.widget-view+json": {
       "model_id": "fb070bc614b0452aa1f0702116233499",
       "version_major": 2,
       "version_minor": 0
      },
      "text/plain": [
       "Chain 2 - warmup:   0%|          | 0/1 [00:00<?, ?it/s]"
      ]
     },
     "metadata": {},
     "output_type": "display_data"
    }
   ],
   "source": [
    "trace = stan_sparse_model.sample(data=stan_sparse_data, show_progress=\"notebook\", chains=2)"
   ]
  },
  {
   "cell_type": "code",
   "execution_count": null,
   "id": "greenhouse-cuisine",
   "metadata": {},
   "outputs": [],
   "source": [
    "samples_az = az.from_cmdstanpy(trace)"
   ]
  },
  {
   "cell_type": "code",
   "execution_count": null,
   "id": "legal-wrong",
   "metadata": {},
   "outputs": [],
   "source": []
  }
 ],
 "metadata": {
  "kernelspec": {
   "display_name": "Python 3",
   "language": "python",
   "name": "python3"
  },
  "language_info": {
   "codemirror_mode": {
    "name": "ipython",
    "version": 3
   },
   "file_extension": ".py",
   "mimetype": "text/x-python",
   "name": "python",
   "nbconvert_exporter": "python",
   "pygments_lexer": "ipython3",
   "version": "3.9.1"
  },
  "toc": {
   "base_numbering": 1,
   "nav_menu": {},
   "number_sections": true,
   "sideBar": true,
   "skip_h1_title": false,
   "title_cell": "Table of Contents",
   "title_sidebar": "Contents",
   "toc_cell": false,
   "toc_position": {},
   "toc_section_display": true,
   "toc_window_display": false
  }
 },
 "nbformat": 4,
 "nbformat_minor": 5
}
