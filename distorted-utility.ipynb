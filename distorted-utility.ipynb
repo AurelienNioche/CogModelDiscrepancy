{
 "cells": [
  {
   "cell_type": "code",
   "execution_count": 1,
   "id": "appreciated-planet",
   "metadata": {},
   "outputs": [],
   "source": [
    "import os\n",
    "os.environ['MKL_NUM_THREADS'] = '1'\n",
    "os.environ['OPENBLAS_NUM_THREADS'] = '1'\n",
    "import logging\n",
    "logger = logging.getLogger()\n",
    "logger.setLevel(logging.WARNING)\n",
    "import scipy\n",
    "import matplotlib.pyplot as plt\n",
    "import seaborn as sns\n",
    "import pandas as pd\n",
    "import numpy as np\n",
    "import multiprocessing\n",
    "import itertools as it\n",
    "from scipy.special import expit\n",
    "import pymc3 as pm\n",
    "import arviz as az\n",
    "import theano.tensor as tt\n",
    "import warnings\n",
    "warnings.simplefilter('ignore')"
   ]
  },
  {
   "cell_type": "code",
   "execution_count": 2,
   "id": "modern-lounge",
   "metadata": {},
   "outputs": [],
   "source": [
    "%matplotlib inline\n",
    "%config InlineBackend.figure_format = 'retina'\n",
    "sns.set()  # Nice plot aesthetic"
   ]
  },
  {
   "cell_type": "code",
   "execution_count": 19,
   "id": "inappropriate-escape",
   "metadata": {},
   "outputs": [],
   "source": [
    "with pm.Model() as model:\n",
    "\n",
    "    # Lengthscale\n",
    "    ρ = pm.HalfCauchy('ρ', 5)\n",
    "    η = pm.HalfCauchy('η', 5)\n",
    "    \n",
    "    M = pm.gp.mean.Linear(coeffs=0)\n",
    "    K = η**2 * pm.gp.cov.ExpQuad(1, ρ) \n",
    "    \n",
    "    σ = pm.HalfNormal('σ', 50)\n",
    "    \n",
    "    gp = pm.gp.Marginal(mean_func=M, cov_func=K)\n",
    "    gp.marginal_likelihood('f', X=np.linspace(0, 1, 100).reshape(-1, 1), noise=σ, y=np.linspace(0, 1, 100).reshape(-1, 1))\n",
    "    # gp.marginal_likelihood('y', X=np.linspace(0, 1, 10).reshape(-1, 1), y=u_sorted, noise=σ)"
   ]
  },
  {
   "cell_type": "code",
   "execution_count": 20,
   "id": "parental-square",
   "metadata": {},
   "outputs": [
    {
     "data": {
      "text/plain": [
       "[array([[0.02667497, 0.02667497, 0.02667497, ..., 0.02667497, 0.02667497,\n",
       "         0.02667497],\n",
       "        [0.02684879, 0.02684879, 0.02684879, ..., 0.02684879, 0.02684879,\n",
       "         0.02684879],\n",
       "        [0.02702114, 0.02702114, 0.02702114, ..., 0.02702114, 0.02702114,\n",
       "         0.02702114],\n",
       "        ...,\n",
       "        [0.03193841, 0.03193841, 0.03193841, ..., 0.03193841, 0.03193841,\n",
       "         0.03193841],\n",
       "        [0.03184628, 0.03184628, 0.03184628, ..., 0.03184628, 0.03184628,\n",
       "         0.03184628],\n",
       "        [0.03175134, 0.03175134, 0.03175134, ..., 0.03175134, 0.03175134,\n",
       "         0.03175134]]),\n",
       " array([[0.94895581, 0.94868949, 0.9483261 , ..., 0.56933792, 0.56345621,\n",
       "         0.55757665],\n",
       "        [0.94868949, 0.94852587, 0.94826218, ..., 0.57521209, 0.5693337 ,\n",
       "         0.56345621],\n",
       "        [0.9483261 , 0.94826218, 0.94810123, ..., 0.58108589, 0.57521209,\n",
       "         0.56933792],\n",
       "        ...,\n",
       "        [0.56933792, 0.57521209, 0.58108589, ..., 0.94810123, 0.94826218,\n",
       "         0.9483261 ],\n",
       "        [0.56345621, 0.5693337 , 0.57521209, ..., 0.94826218, 0.94852587,\n",
       "         0.94868949],\n",
       "        [0.55757665, 0.56345621, 0.56933792, ..., 0.9483261 , 0.94868949,\n",
       "         0.94895581]])]"
      ]
     },
     "execution_count": 20,
     "metadata": {},
     "output_type": "execute_result"
    }
   ],
   "source": [
    "gp.predict(Xnew=np.linspace(0, 1, 100).reshape(-1, 1), point={'ρ': 1, 'η': 1})"
   ]
  },
  {
   "cell_type": "code",
   "execution_count": null,
   "id": "horizontal-vegetarian",
   "metadata": {},
   "outputs": [],
   "source": [
    "gp."
   ]
  }
 ],
 "metadata": {
  "kernelspec": {
   "display_name": "Python 3",
   "language": "python",
   "name": "python3"
  },
  "language_info": {
   "codemirror_mode": {
    "name": "ipython",
    "version": 3
   },
   "file_extension": ".py",
   "mimetype": "text/x-python",
   "name": "python",
   "nbconvert_exporter": "python",
   "pygments_lexer": "ipython3",
   "version": "3.9.1"
  }
 },
 "nbformat": 4,
 "nbformat_minor": 5
}
